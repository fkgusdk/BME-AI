{
  "cells": [
    {
      "cell_type": "markdown",
      "source": [
        "# BME 인공지능 Homework #6\n",
        "## 202001269 라현아"
      ],
      "metadata": {
        "id": "AV3V7h2NwQe6"
      }
    },
    {
      "cell_type": "code",
      "execution_count": 1,
      "metadata": {
        "id": "gr7ahlkNQx21"
      },
      "outputs": [],
      "source": [
        "%matplotlib inline"
      ]
    },
    {
      "cell_type": "markdown",
      "source": [
        "### 준비사항\n",
        "- 이번 실습을 위해서는 아래 코드의 실행을 통해 필요한 패키지들을 미리 설치하여야 합니다.\n",
        "- 아래 패키지들을 성공적으로 설치한 후, 런타임을 다시 시작하여 다음 코드들을 실행하여 실습을 진행합니다.\n",
        "- 실습코드는 아래 pytorch 공식사이트의 tutorial을 데이터를 가져오는 부분 위주로 일부분을 수정한 버젼으로 보다 자세한 내용은 링크를 참고 합니다.\n",
        "  - https://pytorch.org/tutorials/beginner/translation_transformer.html\n"
      ],
      "metadata": {
        "id": "kW0z3XlvgeD6"
      }
    },
    {
      "cell_type": "code",
      "source": [
        "!pip install -U spacy\n",
        "!pip install torchdata\n",
        "!python -m spacy download de_core_news_sm\n",
        "!python -m spacy download en_core_web_sm"
      ],
      "metadata": {
        "id": "dIWjMnXPQ5jk",
        "colab": {
          "base_uri": "https://localhost:8080/"
        },
        "outputId": "23e43974-6cf1-4a09-f5af-a9f6f8b46de6"
      },
      "execution_count": 2,
      "outputs": [
        {
          "output_type": "stream",
          "name": "stdout",
          "text": [
            "Looking in indexes: https://pypi.org/simple, https://us-python.pkg.dev/colab-wheels/public/simple/\n",
            "Requirement already satisfied: spacy in /usr/local/lib/python3.7/dist-packages (2.2.4)\n",
            "Collecting spacy\n",
            "  Downloading spacy-3.3.1-cp37-cp37m-manylinux_2_17_x86_64.manylinux2014_x86_64.whl (6.2 MB)\n",
            "\u001b[K     |████████████████████████████████| 6.2 MB 5.5 MB/s \n",
            "\u001b[?25hCollecting catalogue<2.1.0,>=2.0.6\n",
            "  Downloading catalogue-2.0.7-py3-none-any.whl (17 kB)\n",
            "Collecting langcodes<4.0.0,>=3.2.0\n",
            "  Downloading langcodes-3.3.0-py3-none-any.whl (181 kB)\n",
            "\u001b[K     |████████████████████████████████| 181 kB 67.2 MB/s \n",
            "\u001b[?25hCollecting srsly<3.0.0,>=2.4.3\n",
            "  Downloading srsly-2.4.3-cp37-cp37m-manylinux_2_17_x86_64.manylinux2014_x86_64.whl (457 kB)\n",
            "\u001b[K     |████████████████████████████████| 457 kB 47.2 MB/s \n",
            "\u001b[?25hCollecting thinc<8.1.0,>=8.0.14\n",
            "  Downloading thinc-8.0.17-cp37-cp37m-manylinux_2_17_x86_64.manylinux2014_x86_64.whl (660 kB)\n",
            "\u001b[K     |████████████████████████████████| 660 kB 53.1 MB/s \n",
            "\u001b[?25hRequirement already satisfied: murmurhash<1.1.0,>=0.28.0 in /usr/local/lib/python3.7/dist-packages (from spacy) (1.0.7)\n",
            "Requirement already satisfied: cymem<2.1.0,>=2.0.2 in /usr/local/lib/python3.7/dist-packages (from spacy) (2.0.6)\n",
            "Requirement already satisfied: wasabi<1.1.0,>=0.9.1 in /usr/local/lib/python3.7/dist-packages (from spacy) (0.9.1)\n",
            "Requirement already satisfied: setuptools in /usr/local/lib/python3.7/dist-packages (from spacy) (57.4.0)\n",
            "Requirement already satisfied: packaging>=20.0 in /usr/local/lib/python3.7/dist-packages (from spacy) (21.3)\n",
            "Requirement already satisfied: blis<0.8.0,>=0.4.0 in /usr/local/lib/python3.7/dist-packages (from spacy) (0.4.1)\n",
            "Collecting pathy>=0.3.5\n",
            "  Downloading pathy-0.6.1-py3-none-any.whl (42 kB)\n",
            "\u001b[K     |████████████████████████████████| 42 kB 1.6 MB/s \n",
            "\u001b[?25hCollecting typer<0.5.0,>=0.3.0\n",
            "  Downloading typer-0.4.1-py3-none-any.whl (27 kB)\n",
            "Requirement already satisfied: requests<3.0.0,>=2.13.0 in /usr/local/lib/python3.7/dist-packages (from spacy) (2.23.0)\n",
            "Requirement already satisfied: preshed<3.1.0,>=3.0.2 in /usr/local/lib/python3.7/dist-packages (from spacy) (3.0.6)\n",
            "Requirement already satisfied: tqdm<5.0.0,>=4.38.0 in /usr/local/lib/python3.7/dist-packages (from spacy) (4.64.0)\n",
            "Collecting spacy-legacy<3.1.0,>=3.0.9\n",
            "  Downloading spacy_legacy-3.0.9-py2.py3-none-any.whl (20 kB)\n",
            "Requirement already satisfied: numpy>=1.15.0 in /usr/local/lib/python3.7/dist-packages (from spacy) (1.21.6)\n",
            "Collecting pydantic!=1.8,!=1.8.1,<1.9.0,>=1.7.4\n",
            "  Downloading pydantic-1.8.2-cp37-cp37m-manylinux2014_x86_64.whl (10.1 MB)\n",
            "\u001b[K     |████████████████████████████████| 10.1 MB 50.7 MB/s \n",
            "\u001b[?25hCollecting typing-extensions<4.2.0,>=3.7.4\n",
            "  Downloading typing_extensions-4.1.1-py3-none-any.whl (26 kB)\n",
            "Collecting spacy-loggers<2.0.0,>=1.0.0\n",
            "  Downloading spacy_loggers-1.0.2-py3-none-any.whl (7.2 kB)\n",
            "Requirement already satisfied: jinja2 in /usr/local/lib/python3.7/dist-packages (from spacy) (2.11.3)\n",
            "Requirement already satisfied: zipp>=0.5 in /usr/local/lib/python3.7/dist-packages (from catalogue<2.1.0,>=2.0.6->spacy) (3.8.0)\n",
            "Requirement already satisfied: pyparsing!=3.0.5,>=2.0.2 in /usr/local/lib/python3.7/dist-packages (from packaging>=20.0->spacy) (3.0.9)\n",
            "Collecting smart-open<6.0.0,>=5.0.0\n",
            "  Downloading smart_open-5.2.1-py3-none-any.whl (58 kB)\n",
            "\u001b[K     |████████████████████████████████| 58 kB 6.3 MB/s \n",
            "\u001b[?25hRequirement already satisfied: urllib3!=1.25.0,!=1.25.1,<1.26,>=1.21.1 in /usr/local/lib/python3.7/dist-packages (from requests<3.0.0,>=2.13.0->spacy) (1.24.3)\n",
            "Requirement already satisfied: idna<3,>=2.5 in /usr/local/lib/python3.7/dist-packages (from requests<3.0.0,>=2.13.0->spacy) (2.10)\n",
            "Requirement already satisfied: certifi>=2017.4.17 in /usr/local/lib/python3.7/dist-packages (from requests<3.0.0,>=2.13.0->spacy) (2022.5.18.1)\n",
            "Requirement already satisfied: chardet<4,>=3.0.2 in /usr/local/lib/python3.7/dist-packages (from requests<3.0.0,>=2.13.0->spacy) (3.0.4)\n",
            "Requirement already satisfied: click<9.0.0,>=7.1.1 in /usr/local/lib/python3.7/dist-packages (from typer<0.5.0,>=0.3.0->spacy) (7.1.2)\n",
            "Requirement already satisfied: MarkupSafe>=0.23 in /usr/local/lib/python3.7/dist-packages (from jinja2->spacy) (2.0.1)\n",
            "Installing collected packages: typing-extensions, catalogue, typer, srsly, smart-open, pydantic, thinc, spacy-loggers, spacy-legacy, pathy, langcodes, spacy\n",
            "  Attempting uninstall: typing-extensions\n",
            "    Found existing installation: typing-extensions 4.2.0\n",
            "    Uninstalling typing-extensions-4.2.0:\n",
            "      Successfully uninstalled typing-extensions-4.2.0\n",
            "  Attempting uninstall: catalogue\n",
            "    Found existing installation: catalogue 1.0.0\n",
            "    Uninstalling catalogue-1.0.0:\n",
            "      Successfully uninstalled catalogue-1.0.0\n",
            "  Attempting uninstall: srsly\n",
            "    Found existing installation: srsly 1.0.5\n",
            "    Uninstalling srsly-1.0.5:\n",
            "      Successfully uninstalled srsly-1.0.5\n",
            "  Attempting uninstall: smart-open\n",
            "    Found existing installation: smart-open 6.0.0\n",
            "    Uninstalling smart-open-6.0.0:\n",
            "      Successfully uninstalled smart-open-6.0.0\n",
            "  Attempting uninstall: thinc\n",
            "    Found existing installation: thinc 7.4.0\n",
            "    Uninstalling thinc-7.4.0:\n",
            "      Successfully uninstalled thinc-7.4.0\n",
            "  Attempting uninstall: spacy\n",
            "    Found existing installation: spacy 2.2.4\n",
            "    Uninstalling spacy-2.2.4:\n",
            "      Successfully uninstalled spacy-2.2.4\n",
            "Successfully installed catalogue-2.0.7 langcodes-3.3.0 pathy-0.6.1 pydantic-1.8.2 smart-open-5.2.1 spacy-3.3.1 spacy-legacy-3.0.9 spacy-loggers-1.0.2 srsly-2.4.3 thinc-8.0.17 typer-0.4.1 typing-extensions-4.1.1\n",
            "Looking in indexes: https://pypi.org/simple, https://us-python.pkg.dev/colab-wheels/public/simple/\n",
            "Collecting torchdata\n",
            "  Downloading torchdata-0.3.0-py3-none-any.whl (47 kB)\n",
            "\u001b[K     |████████████████████████████████| 47 kB 2.5 MB/s \n",
            "\u001b[?25hRequirement already satisfied: torch==1.11.0 in /usr/local/lib/python3.7/dist-packages (from torchdata) (1.11.0+cu113)\n",
            "Requirement already satisfied: requests in /usr/local/lib/python3.7/dist-packages (from torchdata) (2.23.0)\n",
            "Collecting urllib3>=1.25\n",
            "  Downloading urllib3-1.26.9-py2.py3-none-any.whl (138 kB)\n",
            "\u001b[K     |████████████████████████████████| 138 kB 9.4 MB/s \n",
            "\u001b[?25hRequirement already satisfied: typing-extensions in /usr/local/lib/python3.7/dist-packages (from torch==1.11.0->torchdata) (4.1.1)\n",
            "Requirement already satisfied: certifi>=2017.4.17 in /usr/local/lib/python3.7/dist-packages (from requests->torchdata) (2022.5.18.1)\n",
            "Requirement already satisfied: idna<3,>=2.5 in /usr/local/lib/python3.7/dist-packages (from requests->torchdata) (2.10)\n",
            "  Downloading urllib3-1.25.11-py2.py3-none-any.whl (127 kB)\n",
            "\u001b[K     |████████████████████████████████| 127 kB 66.8 MB/s \n",
            "\u001b[?25hRequirement already satisfied: chardet<4,>=3.0.2 in /usr/local/lib/python3.7/dist-packages (from requests->torchdata) (3.0.4)\n",
            "Installing collected packages: urllib3, torchdata\n",
            "  Attempting uninstall: urllib3\n",
            "    Found existing installation: urllib3 1.24.3\n",
            "    Uninstalling urllib3-1.24.3:\n",
            "      Successfully uninstalled urllib3-1.24.3\n",
            "\u001b[31mERROR: pip's dependency resolver does not currently take into account all the packages that are installed. This behaviour is the source of the following dependency conflicts.\n",
            "datascience 0.10.6 requires folium==0.2.1, but you have folium 0.8.3 which is incompatible.\u001b[0m\n",
            "Successfully installed torchdata-0.3.0 urllib3-1.25.11\n",
            "Looking in indexes: https://pypi.org/simple, https://us-python.pkg.dev/colab-wheels/public/simple/\n",
            "Collecting de-core-news-sm==3.3.0\n",
            "  Downloading https://github.com/explosion/spacy-models/releases/download/de_core_news_sm-3.3.0/de_core_news_sm-3.3.0-py3-none-any.whl (14.6 MB)\n",
            "\u001b[K     |████████████████████████████████| 14.6 MB 5.5 MB/s \n",
            "\u001b[?25hRequirement already satisfied: spacy<3.4.0,>=3.3.0.dev0 in /usr/local/lib/python3.7/dist-packages (from de-core-news-sm==3.3.0) (3.3.1)\n",
            "Requirement already satisfied: langcodes<4.0.0,>=3.2.0 in /usr/local/lib/python3.7/dist-packages (from spacy<3.4.0,>=3.3.0.dev0->de-core-news-sm==3.3.0) (3.3.0)\n",
            "Requirement already satisfied: tqdm<5.0.0,>=4.38.0 in /usr/local/lib/python3.7/dist-packages (from spacy<3.4.0,>=3.3.0.dev0->de-core-news-sm==3.3.0) (4.64.0)\n",
            "Requirement already satisfied: thinc<8.1.0,>=8.0.14 in /usr/local/lib/python3.7/dist-packages (from spacy<3.4.0,>=3.3.0.dev0->de-core-news-sm==3.3.0) (8.0.17)\n",
            "Requirement already satisfied: murmurhash<1.1.0,>=0.28.0 in /usr/local/lib/python3.7/dist-packages (from spacy<3.4.0,>=3.3.0.dev0->de-core-news-sm==3.3.0) (1.0.7)\n",
            "Requirement already satisfied: packaging>=20.0 in /usr/local/lib/python3.7/dist-packages (from spacy<3.4.0,>=3.3.0.dev0->de-core-news-sm==3.3.0) (21.3)\n",
            "Requirement already satisfied: srsly<3.0.0,>=2.4.3 in /usr/local/lib/python3.7/dist-packages (from spacy<3.4.0,>=3.3.0.dev0->de-core-news-sm==3.3.0) (2.4.3)\n",
            "Requirement already satisfied: typing-extensions<4.2.0,>=3.7.4 in /usr/local/lib/python3.7/dist-packages (from spacy<3.4.0,>=3.3.0.dev0->de-core-news-sm==3.3.0) (4.1.1)\n",
            "Requirement already satisfied: spacy-loggers<2.0.0,>=1.0.0 in /usr/local/lib/python3.7/dist-packages (from spacy<3.4.0,>=3.3.0.dev0->de-core-news-sm==3.3.0) (1.0.2)\n",
            "Requirement already satisfied: numpy>=1.15.0 in /usr/local/lib/python3.7/dist-packages (from spacy<3.4.0,>=3.3.0.dev0->de-core-news-sm==3.3.0) (1.21.6)\n",
            "Requirement already satisfied: blis<0.8.0,>=0.4.0 in /usr/local/lib/python3.7/dist-packages (from spacy<3.4.0,>=3.3.0.dev0->de-core-news-sm==3.3.0) (0.4.1)\n",
            "Requirement already satisfied: wasabi<1.1.0,>=0.9.1 in /usr/local/lib/python3.7/dist-packages (from spacy<3.4.0,>=3.3.0.dev0->de-core-news-sm==3.3.0) (0.9.1)\n",
            "Requirement already satisfied: preshed<3.1.0,>=3.0.2 in /usr/local/lib/python3.7/dist-packages (from spacy<3.4.0,>=3.3.0.dev0->de-core-news-sm==3.3.0) (3.0.6)\n",
            "Requirement already satisfied: cymem<2.1.0,>=2.0.2 in /usr/local/lib/python3.7/dist-packages (from spacy<3.4.0,>=3.3.0.dev0->de-core-news-sm==3.3.0) (2.0.6)\n",
            "Requirement already satisfied: spacy-legacy<3.1.0,>=3.0.9 in /usr/local/lib/python3.7/dist-packages (from spacy<3.4.0,>=3.3.0.dev0->de-core-news-sm==3.3.0) (3.0.9)\n",
            "Requirement already satisfied: catalogue<2.1.0,>=2.0.6 in /usr/local/lib/python3.7/dist-packages (from spacy<3.4.0,>=3.3.0.dev0->de-core-news-sm==3.3.0) (2.0.7)\n",
            "Requirement already satisfied: setuptools in /usr/local/lib/python3.7/dist-packages (from spacy<3.4.0,>=3.3.0.dev0->de-core-news-sm==3.3.0) (57.4.0)\n",
            "Requirement already satisfied: pydantic!=1.8,!=1.8.1,<1.9.0,>=1.7.4 in /usr/local/lib/python3.7/dist-packages (from spacy<3.4.0,>=3.3.0.dev0->de-core-news-sm==3.3.0) (1.8.2)\n",
            "Requirement already satisfied: typer<0.5.0,>=0.3.0 in /usr/local/lib/python3.7/dist-packages (from spacy<3.4.0,>=3.3.0.dev0->de-core-news-sm==3.3.0) (0.4.1)\n",
            "Requirement already satisfied: jinja2 in /usr/local/lib/python3.7/dist-packages (from spacy<3.4.0,>=3.3.0.dev0->de-core-news-sm==3.3.0) (2.11.3)\n",
            "Requirement already satisfied: pathy>=0.3.5 in /usr/local/lib/python3.7/dist-packages (from spacy<3.4.0,>=3.3.0.dev0->de-core-news-sm==3.3.0) (0.6.1)\n",
            "Requirement already satisfied: requests<3.0.0,>=2.13.0 in /usr/local/lib/python3.7/dist-packages (from spacy<3.4.0,>=3.3.0.dev0->de-core-news-sm==3.3.0) (2.23.0)\n",
            "Requirement already satisfied: zipp>=0.5 in /usr/local/lib/python3.7/dist-packages (from catalogue<2.1.0,>=2.0.6->spacy<3.4.0,>=3.3.0.dev0->de-core-news-sm==3.3.0) (3.8.0)\n",
            "Requirement already satisfied: pyparsing!=3.0.5,>=2.0.2 in /usr/local/lib/python3.7/dist-packages (from packaging>=20.0->spacy<3.4.0,>=3.3.0.dev0->de-core-news-sm==3.3.0) (3.0.9)\n",
            "Requirement already satisfied: smart-open<6.0.0,>=5.0.0 in /usr/local/lib/python3.7/dist-packages (from pathy>=0.3.5->spacy<3.4.0,>=3.3.0.dev0->de-core-news-sm==3.3.0) (5.2.1)\n",
            "Requirement already satisfied: urllib3!=1.25.0,!=1.25.1,<1.26,>=1.21.1 in /usr/local/lib/python3.7/dist-packages (from requests<3.0.0,>=2.13.0->spacy<3.4.0,>=3.3.0.dev0->de-core-news-sm==3.3.0) (1.25.11)\n",
            "Requirement already satisfied: chardet<4,>=3.0.2 in /usr/local/lib/python3.7/dist-packages (from requests<3.0.0,>=2.13.0->spacy<3.4.0,>=3.3.0.dev0->de-core-news-sm==3.3.0) (3.0.4)\n",
            "Requirement already satisfied: certifi>=2017.4.17 in /usr/local/lib/python3.7/dist-packages (from requests<3.0.0,>=2.13.0->spacy<3.4.0,>=3.3.0.dev0->de-core-news-sm==3.3.0) (2022.5.18.1)\n",
            "Requirement already satisfied: idna<3,>=2.5 in /usr/local/lib/python3.7/dist-packages (from requests<3.0.0,>=2.13.0->spacy<3.4.0,>=3.3.0.dev0->de-core-news-sm==3.3.0) (2.10)\n",
            "Requirement already satisfied: click<9.0.0,>=7.1.1 in /usr/local/lib/python3.7/dist-packages (from typer<0.5.0,>=0.3.0->spacy<3.4.0,>=3.3.0.dev0->de-core-news-sm==3.3.0) (7.1.2)\n",
            "Requirement already satisfied: MarkupSafe>=0.23 in /usr/local/lib/python3.7/dist-packages (from jinja2->spacy<3.4.0,>=3.3.0.dev0->de-core-news-sm==3.3.0) (2.0.1)\n",
            "Installing collected packages: de-core-news-sm\n",
            "Successfully installed de-core-news-sm-3.3.0\n",
            "\u001b[38;5;2m✔ Download and installation successful\u001b[0m\n",
            "You can now load the package via spacy.load('de_core_news_sm')\n",
            "Looking in indexes: https://pypi.org/simple, https://us-python.pkg.dev/colab-wheels/public/simple/\n",
            "Collecting en-core-web-sm==3.3.0\n",
            "  Downloading https://github.com/explosion/spacy-models/releases/download/en_core_web_sm-3.3.0/en_core_web_sm-3.3.0-py3-none-any.whl (12.8 MB)\n",
            "\u001b[K     |████████████████████████████████| 12.8 MB 5.5 MB/s \n",
            "\u001b[?25hRequirement already satisfied: spacy<3.4.0,>=3.3.0.dev0 in /usr/local/lib/python3.7/dist-packages (from en-core-web-sm==3.3.0) (3.3.1)\n",
            "Requirement already satisfied: spacy-loggers<2.0.0,>=1.0.0 in /usr/local/lib/python3.7/dist-packages (from spacy<3.4.0,>=3.3.0.dev0->en-core-web-sm==3.3.0) (1.0.2)\n",
            "Requirement already satisfied: blis<0.8.0,>=0.4.0 in /usr/local/lib/python3.7/dist-packages (from spacy<3.4.0,>=3.3.0.dev0->en-core-web-sm==3.3.0) (0.4.1)\n",
            "Requirement already satisfied: thinc<8.1.0,>=8.0.14 in /usr/local/lib/python3.7/dist-packages (from spacy<3.4.0,>=3.3.0.dev0->en-core-web-sm==3.3.0) (8.0.17)\n",
            "Requirement already satisfied: spacy-legacy<3.1.0,>=3.0.9 in /usr/local/lib/python3.7/dist-packages (from spacy<3.4.0,>=3.3.0.dev0->en-core-web-sm==3.3.0) (3.0.9)\n",
            "Requirement already satisfied: catalogue<2.1.0,>=2.0.6 in /usr/local/lib/python3.7/dist-packages (from spacy<3.4.0,>=3.3.0.dev0->en-core-web-sm==3.3.0) (2.0.7)\n",
            "Requirement already satisfied: typer<0.5.0,>=0.3.0 in /usr/local/lib/python3.7/dist-packages (from spacy<3.4.0,>=3.3.0.dev0->en-core-web-sm==3.3.0) (0.4.1)\n",
            "Requirement already satisfied: langcodes<4.0.0,>=3.2.0 in /usr/local/lib/python3.7/dist-packages (from spacy<3.4.0,>=3.3.0.dev0->en-core-web-sm==3.3.0) (3.3.0)\n",
            "Requirement already satisfied: wasabi<1.1.0,>=0.9.1 in /usr/local/lib/python3.7/dist-packages (from spacy<3.4.0,>=3.3.0.dev0->en-core-web-sm==3.3.0) (0.9.1)\n",
            "Requirement already satisfied: pydantic!=1.8,!=1.8.1,<1.9.0,>=1.7.4 in /usr/local/lib/python3.7/dist-packages (from spacy<3.4.0,>=3.3.0.dev0->en-core-web-sm==3.3.0) (1.8.2)\n",
            "Requirement already satisfied: jinja2 in /usr/local/lib/python3.7/dist-packages (from spacy<3.4.0,>=3.3.0.dev0->en-core-web-sm==3.3.0) (2.11.3)\n",
            "Requirement already satisfied: tqdm<5.0.0,>=4.38.0 in /usr/local/lib/python3.7/dist-packages (from spacy<3.4.0,>=3.3.0.dev0->en-core-web-sm==3.3.0) (4.64.0)\n",
            "Requirement already satisfied: preshed<3.1.0,>=3.0.2 in /usr/local/lib/python3.7/dist-packages (from spacy<3.4.0,>=3.3.0.dev0->en-core-web-sm==3.3.0) (3.0.6)\n",
            "Requirement already satisfied: packaging>=20.0 in /usr/local/lib/python3.7/dist-packages (from spacy<3.4.0,>=3.3.0.dev0->en-core-web-sm==3.3.0) (21.3)\n",
            "Requirement already satisfied: pathy>=0.3.5 in /usr/local/lib/python3.7/dist-packages (from spacy<3.4.0,>=3.3.0.dev0->en-core-web-sm==3.3.0) (0.6.1)\n",
            "Requirement already satisfied: typing-extensions<4.2.0,>=3.7.4 in /usr/local/lib/python3.7/dist-packages (from spacy<3.4.0,>=3.3.0.dev0->en-core-web-sm==3.3.0) (4.1.1)\n",
            "Requirement already satisfied: srsly<3.0.0,>=2.4.3 in /usr/local/lib/python3.7/dist-packages (from spacy<3.4.0,>=3.3.0.dev0->en-core-web-sm==3.3.0) (2.4.3)\n",
            "Requirement already satisfied: murmurhash<1.1.0,>=0.28.0 in /usr/local/lib/python3.7/dist-packages (from spacy<3.4.0,>=3.3.0.dev0->en-core-web-sm==3.3.0) (1.0.7)\n",
            "Requirement already satisfied: setuptools in /usr/local/lib/python3.7/dist-packages (from spacy<3.4.0,>=3.3.0.dev0->en-core-web-sm==3.3.0) (57.4.0)\n",
            "Requirement already satisfied: numpy>=1.15.0 in /usr/local/lib/python3.7/dist-packages (from spacy<3.4.0,>=3.3.0.dev0->en-core-web-sm==3.3.0) (1.21.6)\n",
            "Requirement already satisfied: requests<3.0.0,>=2.13.0 in /usr/local/lib/python3.7/dist-packages (from spacy<3.4.0,>=3.3.0.dev0->en-core-web-sm==3.3.0) (2.23.0)\n",
            "Requirement already satisfied: cymem<2.1.0,>=2.0.2 in /usr/local/lib/python3.7/dist-packages (from spacy<3.4.0,>=3.3.0.dev0->en-core-web-sm==3.3.0) (2.0.6)\n",
            "Requirement already satisfied: zipp>=0.5 in /usr/local/lib/python3.7/dist-packages (from catalogue<2.1.0,>=2.0.6->spacy<3.4.0,>=3.3.0.dev0->en-core-web-sm==3.3.0) (3.8.0)\n",
            "Requirement already satisfied: pyparsing!=3.0.5,>=2.0.2 in /usr/local/lib/python3.7/dist-packages (from packaging>=20.0->spacy<3.4.0,>=3.3.0.dev0->en-core-web-sm==3.3.0) (3.0.9)\n",
            "Requirement already satisfied: smart-open<6.0.0,>=5.0.0 in /usr/local/lib/python3.7/dist-packages (from pathy>=0.3.5->spacy<3.4.0,>=3.3.0.dev0->en-core-web-sm==3.3.0) (5.2.1)\n",
            "Requirement already satisfied: idna<3,>=2.5 in /usr/local/lib/python3.7/dist-packages (from requests<3.0.0,>=2.13.0->spacy<3.4.0,>=3.3.0.dev0->en-core-web-sm==3.3.0) (2.10)\n",
            "Requirement already satisfied: urllib3!=1.25.0,!=1.25.1,<1.26,>=1.21.1 in /usr/local/lib/python3.7/dist-packages (from requests<3.0.0,>=2.13.0->spacy<3.4.0,>=3.3.0.dev0->en-core-web-sm==3.3.0) (1.25.11)\n",
            "Requirement already satisfied: chardet<4,>=3.0.2 in /usr/local/lib/python3.7/dist-packages (from requests<3.0.0,>=2.13.0->spacy<3.4.0,>=3.3.0.dev0->en-core-web-sm==3.3.0) (3.0.4)\n",
            "Requirement already satisfied: certifi>=2017.4.17 in /usr/local/lib/python3.7/dist-packages (from requests<3.0.0,>=2.13.0->spacy<3.4.0,>=3.3.0.dev0->en-core-web-sm==3.3.0) (2022.5.18.1)\n",
            "Requirement already satisfied: click<9.0.0,>=7.1.1 in /usr/local/lib/python3.7/dist-packages (from typer<0.5.0,>=0.3.0->spacy<3.4.0,>=3.3.0.dev0->en-core-web-sm==3.3.0) (7.1.2)\n",
            "Requirement already satisfied: MarkupSafe>=0.23 in /usr/local/lib/python3.7/dist-packages (from jinja2->spacy<3.4.0,>=3.3.0.dev0->en-core-web-sm==3.3.0) (2.0.1)\n",
            "Installing collected packages: en-core-web-sm\n",
            "  Attempting uninstall: en-core-web-sm\n",
            "    Found existing installation: en-core-web-sm 2.2.5\n",
            "    Uninstalling en-core-web-sm-2.2.5:\n",
            "      Successfully uninstalled en-core-web-sm-2.2.5\n",
            "Successfully installed en-core-web-sm-3.3.0\n",
            "\u001b[38;5;2m✔ Download and installation successful\u001b[0m\n",
            "You can now load the package via spacy.load('en_core_web_sm')\n"
          ]
        }
      ]
    },
    {
      "cell_type": "markdown",
      "metadata": {
        "id": "WtoRYVc1Qx23"
      },
      "source": [
        "\n",
        "nn.Transformer와 torchtext로 언어 번역하기\n",
        "======================================================\n",
        "\n",
        "이 튜토리얼에서는 Transformer(트랜스포머)를 사용한 번역 모델을 바닥부터 학습하는 방법을 배워보겠습니다. "
      ]
    },
    {
      "cell_type": "code",
      "source": [
        "from torch import Tensor\n",
        "import torch\n",
        "import torch.nn as nn\n",
        "from torch.nn import Transformer\n",
        "import math\n",
        "DEVICE = torch.device('cuda' if torch.cuda.is_available() else 'cpu')\n",
        "DEVICE"
      ],
      "metadata": {
        "id": "eQfuEvH-iDFV",
        "colab": {
          "base_uri": "https://localhost:8080/"
        },
        "outputId": "ed0db09c-551c-4b65-f585-8d4fb3732071"
      },
      "execution_count": 3,
      "outputs": [
        {
          "output_type": "execute_result",
          "data": {
            "text/plain": [
              "device(type='cuda')"
            ]
          },
          "metadata": {},
          "execution_count": 3
        }
      ]
    },
    {
      "cell_type": "markdown",
      "source": [
        "## 학습을 위한 Vocab, Data Loader 를 준비하기"
      ],
      "metadata": {
        "id": "zpVI9LPOhwSh"
      }
    },
    {
      "cell_type": "code",
      "execution_count": 4,
      "metadata": {
        "id": "FcgLxD0nQx25"
      },
      "outputs": [],
      "source": [
        "from torchtext.data.utils import get_tokenizer\n",
        "from torchtext.vocab import build_vocab_from_iterator\n",
        "from torchtext.datasets import Multi30k, IWSLT2016, IWSLT2017\n",
        "from typing import Iterable, List\n",
        "from torchtext.utils import download_from_url, extract_archive\n",
        "import io\n",
        "\n",
        "SRC_LANGUAGE = 'en'\n",
        "TGT_LANGUAGE = 'de'\n",
        "\n",
        "# Place-holders\n",
        "token_transform = {}\n",
        "vocab_transform = {}\n",
        "\n",
        "# 출발어(source)와 목적어(target)의 토크나이저(tokenizer)를 생성합니다.\n",
        "token_transform[SRC_LANGUAGE] = get_tokenizer('spacy', language='en_core_web_sm')\n",
        "token_transform[TGT_LANGUAGE] = get_tokenizer('spacy', language='de_core_news_sm')\n",
        "\n",
        "# 토큰 목록을 생성하기 위한 헬퍼(helper) 함수\n",
        "def yield_tokens(data_iter: Iterable, language: str) -> List[str]:\n",
        "    language_index = {SRC_LANGUAGE: 0, TGT_LANGUAGE: 1}\n",
        "\n",
        "    for data_sample in data_iter:\n",
        "        yield token_transform[language](data_sample[language_index[language]])\n",
        "\n",
        "# 특수 기호(symbol)와 인덱스를 정의합니다\n",
        "UNK_IDX, PAD_IDX, BOS_IDX, EOS_IDX = 0, 1, 2, 3\n",
        "# 토큰들이 어휘집(vocab)에 인덱스 순서대로 잘 삽입되어 있는지 확인합니다\n",
        "special_symbols = ['<unk>', '<pad>', '<bos>', '<eos>']\n"
      ]
    },
    {
      "cell_type": "code",
      "source": [
        "url_base = 'https://raw.githubusercontent.com/multi30k/dataset/master/data/task1/raw/'\n",
        "train_urls = ('train.en.gz', 'train.de.gz')\n",
        "val_urls = ('val.en.gz', 'val.de.gz')\n",
        "test_urls = ('test_2016_flickr.en.gz', 'test_2016_flickr.de.gz')\n",
        "\n",
        "train_filepaths = [extract_archive(download_from_url(url_base + url))[0] for url in train_urls]\n",
        "val_filepaths = [extract_archive(download_from_url(url_base + url))[0] for url in val_urls]\n",
        "test_filepaths = [extract_archive(download_from_url(url_base + url))[0] for url in test_urls]"
      ],
      "metadata": {
        "id": "o9vHZQr2Tz6h",
        "colab": {
          "base_uri": "https://localhost:8080/"
        },
        "outputId": "d5e49c06-dee9-4832-b2c3-3f77d96c039e"
      },
      "execution_count": 5,
      "outputs": [
        {
          "output_type": "stream",
          "name": "stderr",
          "text": [
            "100%|██████████| 569k/569k [00:00<00:00, 15.0MB/s]\n",
            "100%|██████████| 637k/637k [00:00<00:00, 16.6MB/s]\n",
            "100%|██████████| 21.6k/21.6k [00:00<00:00, 8.08MB/s]\n",
            "100%|██████████| 24.7k/24.7k [00:00<00:00, 5.13MB/s]\n",
            "100%|██████████| 21.1k/21.1k [00:00<00:00, 7.33MB/s]\n",
            "100%|██████████| 22.9k/22.9k [00:00<00:00, 5.34MB/s]\n"
          ]
        }
      ]
    },
    {
      "cell_type": "code",
      "source": [
        "def iter_tokens(file_path):\n",
        "  with io.open(file_path, encoding = 'utf-8') as f:\n",
        "    for line in f:\n",
        "      yield line.strip().split()"
      ],
      "metadata": {
        "id": "fBwdEzmPT6UZ"
      },
      "execution_count": 6,
      "outputs": []
    },
    {
      "cell_type": "code",
      "source": [
        "# 문자 -> 숫자\n",
        "vocab_transform[SRC_LANGUAGE] = build_vocab_from_iterator(iter_tokens(train_filepaths[0]),\n",
        "                                                    min_freq=1,\n",
        "                                                    specials=special_symbols,\n",
        "                                                    special_first=True)\n",
        "vocab_transform[TGT_LANGUAGE] = build_vocab_from_iterator(iter_tokens(train_filepaths[1]),\n",
        "                                                    min_freq=1,\n",
        "                                                    specials=special_symbols,\n",
        "                                                    special_first=True)"
      ],
      "metadata": {
        "id": "2wAOtALbSXRl"
      },
      "execution_count": 7,
      "outputs": []
    },
    {
      "cell_type": "code",
      "source": [
        "len(vocab_transform[SRC_LANGUAGE])"
      ],
      "metadata": {
        "id": "1du6NZa5bHc5",
        "colab": {
          "base_uri": "https://localhost:8080/"
        },
        "outputId": "515bcaa6-d2a8-49e1-e3f8-7014aa41b826"
      },
      "execution_count": 8,
      "outputs": [
        {
          "output_type": "execute_result",
          "data": {
            "text/plain": [
              "15460"
            ]
          },
          "metadata": {},
          "execution_count": 8
        }
      ]
    },
    {
      "cell_type": "code",
      "source": [
        "for ln in [SRC_LANGUAGE, TGT_LANGUAGE]:\n",
        "    vocab_transform[ln].set_default_index(UNK_IDX)"
      ],
      "metadata": {
        "id": "iwj_GVU6SYhX"
      },
      "execution_count": 9,
      "outputs": []
    },
    {
      "cell_type": "code",
      "source": [
        "vocab_transform['en']['water'] # 단어 <-> 숫자 맵핑 확인\n",
        "# cf) 숫자 -> 단어 가져오기: embedding"
      ],
      "metadata": {
        "id": "Y9m8bX6BbtfX",
        "colab": {
          "base_uri": "https://localhost:8080/"
        },
        "outputId": "8907b28e-36e5-42e6-eb06-a6978e48b2d0"
      },
      "execution_count": 10,
      "outputs": [
        {
          "output_type": "execute_result",
          "data": {
            "text/plain": [
              "86"
            ]
          },
          "metadata": {},
          "execution_count": 10
        }
      ]
    },
    {
      "cell_type": "code",
      "source": [
        "def data_process(filepaths):\n",
        "  raw_en_iter = iter(io.open(filepaths[0], encoding=\"utf8\"))\n",
        "  raw_de_iter = iter(io.open(filepaths[1], encoding=\"utf8\"))\n",
        "  data = []\n",
        "  for (raw_de, raw_en) in zip(raw_de_iter, raw_en_iter):\n",
        "    en_tensor_ = torch.tensor([vocab_transform[SRC_LANGUAGE][token] for token in token_transform[SRC_LANGUAGE](raw_en)],\n",
        "                            dtype=torch.long)\n",
        "    de_tensor_ = torch.tensor([vocab_transform[TGT_LANGUAGE][token] for token in token_transform[TGT_LANGUAGE](raw_de)],\n",
        "                            dtype=torch.long)\n",
        "    data.append((en_tensor_, de_tensor_))\n",
        "  return data"
      ],
      "metadata": {
        "id": "tPVx27nvW9Tw"
      },
      "execution_count": 11,
      "outputs": []
    },
    {
      "cell_type": "code",
      "source": [
        "train_data = data_process(train_filepaths)\n",
        "val_data = data_process(val_filepaths)"
      ],
      "metadata": {
        "id": "4_4MPw8qXHtV"
      },
      "execution_count": 12,
      "outputs": []
    },
    {
      "cell_type": "code",
      "source": [
        "train_data[0][0] # [k][0] : 영어 , [k][1] 독일어"
      ],
      "metadata": {
        "colab": {
          "base_uri": "https://localhost:8080/"
        },
        "id": "yaGmzxXjoPmB",
        "outputId": "15e2453d-a55a-4deb-9c19-2d9853dd94fd"
      },
      "execution_count": 13,
      "outputs": [
        {
          "output_type": "execute_result",
          "data": {
            "text/plain": [
              "tensor([  17,   22,    0, 1315,  868,   14,   66,   77,  311, 4937,    0,    0])"
            ]
          },
          "metadata": {},
          "execution_count": 13
        }
      ]
    },
    {
      "cell_type": "code",
      "source": [
        "vocab_transform[TGT_LANGUAGE].lookup_tokens(train_data[16][1].numpy())"
      ],
      "metadata": {
        "colab": {
          "base_uri": "https://localhost:8080/"
        },
        "id": "tMcI7wXtniyG",
        "outputId": "bfe952be-fd82-4ac2-f500-1ad641023ad2"
      },
      "execution_count": 14,
      "outputs": [
        {
          "output_type": "execute_result",
          "data": {
            "text/plain": [
              "['Ein',\n",
              " 'kleines',\n",
              " 'Mädchen',\n",
              " 'sitzt',\n",
              " 'vor',\n",
              " 'einem',\n",
              " 'großen',\n",
              " 'gemalten',\n",
              " 'Regenbogen',\n",
              " '.',\n",
              " '<unk>']"
            ]
          },
          "metadata": {},
          "execution_count": 14
        }
      ]
    },
    {
      "cell_type": "markdown",
      "metadata": {
        "id": "cIICTeVqQx26"
      },
      "source": [
        "Transformer를 사용한 시퀀스-투-시퀀스(Seq2Seq) 신경망\n",
        "------------------------------------------------------------\n",
        "\n",
        "Transformer(트랜스포머)는 기계번역 작업(task)을 위해 \"Attention is all you need\" 논문에 소개된 Seq2Seq 모델입니다.\n",
        "아래에서 Transformer를 사용한 Seq2Seq 신경망을 만들어보겠습니다.\n",
        "신경망은 세 부분으로 구성되는데, \n",
        "- 첫번째 부분은 임베딩 계층(embedding layer)입니다.\n",
        "이 계층은 입력 인덱스의 텐서를 입력 임베딩의 해당하는 텐서로 변환합니다.\n",
        "이러한 임베딩은 입력 토큰의 위치 정보(position information)를 모델에 전달하기 위해 위치 인코딩(positional encoding)을 추가합니다.\n",
        "- 두번째 부분은 실제 Transformer 모델입니다.\n",
        "- 마지막으로 Transformer 모델의 출력을 선형 계층에 통과시켜 도착어의 각 토큰에 대한 정규화되지 않은 확률(un-normalized probability)로 제공합니다.\n",
        "\n",
        "\n"
      ]
    },
    {
      "cell_type": "code",
      "execution_count": 15,
      "metadata": {
        "id": "1NYV8iLRQx27"
      },
      "outputs": [],
      "source": [
        "# 단어 순서 개념(notion)을 토큰 임베딩에 도입하기 위한 위치 인코딩(positional encoding)을 위한 헬퍼 모듈(Module)\n",
        "class PositionalEncoding(nn.Module):\n",
        "    def __init__(self,\n",
        "                 emb_size: int,\n",
        "                 dropout: float,\n",
        "                 maxlen: int = 5000):\n",
        "        super(PositionalEncoding, self).__init__()\n",
        "        den = torch.exp(- torch.arange(0, emb_size, 2)* math.log(10000) / emb_size)\n",
        "        pos = torch.arange(0, maxlen).reshape(maxlen, 1)\n",
        "        pos_embedding = torch.zeros((maxlen, emb_size))\n",
        "        pos_embedding[:, 0::2] = torch.sin(pos * den)\n",
        "        pos_embedding[:, 1::2] = torch.cos(pos * den)\n",
        "        pos_embedding = pos_embedding.unsqueeze(-2)\n",
        "\n",
        "        self.dropout = nn.Dropout(dropout)\n",
        "        self.register_buffer('pos_embedding', pos_embedding)\n",
        "\n",
        "    def forward(self, token_embedding: Tensor):\n",
        "        return self.dropout(token_embedding + self.pos_embedding[:token_embedding.size(0), :])\n",
        "\n",
        "# 입력 인덱스의 텐서를 해당하는 토큰 임베딩의 텐서로 변환하기 위한 헬퍼 모듈(Module)\n",
        "class TokenEmbedding(nn.Module):\n",
        "    def __init__(self, vocab_size: int, emb_size):\n",
        "        super(TokenEmbedding, self).__init__()\n",
        "        self.embedding = nn.Embedding(vocab_size, emb_size)\n",
        "        ## 임베딩 vocab_size (단어개수) -> emb_size (실제 input 벡터의 개수) => one-hot encoding (x)\n",
        "        self.emb_size = emb_size\n",
        "\n",
        "    def forward(self, tokens: Tensor):\n",
        "        return self.embedding(tokens.long()) * math.sqrt(self.emb_size)\n",
        "\n",
        "# Seq2Seq 신경망\n",
        "class Seq2SeqTransformer(nn.Module):\n",
        "    def __init__(self,\n",
        "                 num_encoder_layers: int,\n",
        "                 num_decoder_layers: int,\n",
        "                 emb_size: int,\n",
        "                 nhead: int,\n",
        "                 src_vocab_size: int,\n",
        "                 tgt_vocab_size: int,\n",
        "                 dim_feedforward: int = 512,\n",
        "                 dropout: float = 0.1):\n",
        "        super(Seq2SeqTransformer, self).__init__()\n",
        "        self.transformer = Transformer(d_model=emb_size,\n",
        "                                       nhead=nhead,\n",
        "                                       num_encoder_layers=num_encoder_layers,\n",
        "                                       num_decoder_layers=num_decoder_layers,\n",
        "                                       dim_feedforward=dim_feedforward,\n",
        "                                       dropout=dropout)\n",
        "        self.generator = nn.Linear(emb_size, tgt_vocab_size)\n",
        "        self.src_tok_emb = TokenEmbedding(src_vocab_size, emb_size)\n",
        "        self.tgt_tok_emb = TokenEmbedding(tgt_vocab_size, emb_size)\n",
        "        self.positional_encoding = PositionalEncoding(\n",
        "            emb_size, dropout=dropout)\n",
        "\n",
        "    def forward(self,\n",
        "                src: Tensor,\n",
        "                trg: Tensor,\n",
        "                src_mask: Tensor,\n",
        "                tgt_mask: Tensor,\n",
        "                src_padding_mask: Tensor,\n",
        "                tgt_padding_mask: Tensor,\n",
        "                memory_key_padding_mask: Tensor):\n",
        "        src_emb = self.positional_encoding(self.src_tok_emb(src))\n",
        "        tgt_emb = self.positional_encoding(self.tgt_tok_emb(trg))\n",
        "        outs = self.transformer(src_emb, tgt_emb, src_mask, tgt_mask, None,\n",
        "                                src_padding_mask, tgt_padding_mask, memory_key_padding_mask)\n",
        "        return self.generator(outs)\n",
        "\n",
        "    def encode(self, src: Tensor, src_mask: Tensor):\n",
        "        return self.transformer.encoder(self.positional_encoding(\n",
        "                            self.src_tok_emb(src)), src_mask)\n",
        "\n",
        "    def decode(self, tgt: Tensor, memory: Tensor, tgt_mask: Tensor):\n",
        "        return self.transformer.decoder(self.positional_encoding(\n",
        "                          self.tgt_tok_emb(tgt)), memory,\n",
        "                          tgt_mask)"
      ]
    },
    {
      "cell_type": "markdown",
      "metadata": {
        "id": "lbAMGbBiQx28"
      },
      "source": [
        "학습하는 동안, 모델이 예측하는 동안 정답(이후 출현하는 단어)을 보지 못하도록 하는\n",
        "후속 단어 마스크(subsequent word mask)가 필요합니다. 또한, 출발어와 도착어의 패딩(padding) 토큰들\n",
        "또한 숨겨야 합니다. 아래에 두 가지 모두를 처리할 함수를 정의해보겠습니다.\n",
        "\n",
        "\n"
      ]
    },
    {
      "cell_type": "code",
      "execution_count": 16,
      "metadata": {
        "id": "kXffOu-DQx28"
      },
      "outputs": [],
      "source": [
        "def generate_square_subsequent_mask(sz):\n",
        "    mask = (torch.triu(torch.ones((sz, sz), device=DEVICE)) == 1).transpose(0, 1)\n",
        "    mask = mask.float().masked_fill(mask == 0, float('-inf')).masked_fill(mask == 1, float(0.0))\n",
        "    return mask\n",
        "\n",
        "\n",
        "def create_mask(src, tgt):\n",
        "    src_seq_len = src.shape[0]\n",
        "    tgt_seq_len = tgt.shape[0]\n",
        "\n",
        "    tgt_mask = generate_square_subsequent_mask(tgt_seq_len)\n",
        "    src_mask = torch.zeros((src_seq_len, src_seq_len),device=DEVICE).type(torch.bool)\n",
        "\n",
        "    src_padding_mask = (src == PAD_IDX).transpose(0, 1)\n",
        "    tgt_padding_mask = (tgt == PAD_IDX).transpose(0, 1)\n",
        "    return src_mask, tgt_mask, src_padding_mask, tgt_padding_mask"
      ]
    },
    {
      "cell_type": "markdown",
      "metadata": {
        "id": "_3mSks3TQx29"
      },
      "source": [
        "이제 모델의 매개변수를 정의하고 객체를 생성(instantiate)해보겠습니다.\n",
        "아래처럼 학습 단계에서 사용할 손실 함수(loss function)를 교차 엔트로피 손실(cross-entropy loss)로 정의하고,\n",
        "옵티마이저(optimizer)도 정의합니다.\n",
        "\n",
        "\n"
      ]
    },
    {
      "cell_type": "code",
      "execution_count": 17,
      "metadata": {
        "id": "-tfA6j4PQx29"
      },
      "outputs": [],
      "source": [
        "torch.manual_seed(0)\n",
        "\n",
        "SRC_VOCAB_SIZE = len(vocab_transform[SRC_LANGUAGE])\n",
        "TGT_VOCAB_SIZE = len(vocab_transform[TGT_LANGUAGE])\n",
        "EMB_SIZE = 1024\n",
        "NHEAD = 8\n",
        "FFN_HID_DIM = 512\n",
        "BATCH_SIZE = 256\n",
        "NUM_ENCODER_LAYERS = 3\n",
        "NUM_DECODER_LAYERS = 3\n",
        "\n",
        "transformer = Seq2SeqTransformer(NUM_ENCODER_LAYERS, NUM_DECODER_LAYERS, EMB_SIZE,\n",
        "                                 NHEAD, SRC_VOCAB_SIZE, TGT_VOCAB_SIZE, FFN_HID_DIM)\n",
        "\n",
        "for p in transformer.parameters():\n",
        "    if p.dim() > 1:\n",
        "        nn.init.xavier_uniform_(p)\n",
        "\n",
        "transformer = transformer.to(DEVICE)\n",
        "\n",
        "loss_fn = torch.nn.CrossEntropyLoss(ignore_index=PAD_IDX)\n",
        "\n",
        "optimizer = torch.optim.Adam(transformer.parameters(), lr=0.00015, betas=(0.9, 0.98), eps=1e-9)"
      ]
    },
    {
      "cell_type": "markdown",
      "metadata": {
        "id": "C-wtuaCzQx29"
      },
      "source": [
        "대조(Collation)\n",
        "-----------------\n",
        "\n",
        "위의 ``데이터 구하고 처리하기`` 장에서 봤듯이, 데이터 반복자(iterator)는 원시 문자열의 쌍을 생성합니다.\n",
        "이 문자열 쌍들을 이전에 정의한 ``Seq2Seq`` 신경망에서 처리할 수 있도록 텐서 묶음(batched tensor)으로 변환해야 합니다.\n",
        "이제 원시 문자열들의 묶음(batch)을 텐서 묶음으로 변환하여 모델에 직접 전달할 수 있도록 하는 대응어(collate) 함수를\n",
        "정의해보겠습니다.\n",
        "\n",
        "\n"
      ]
    },
    {
      "cell_type": "code",
      "source": [
        "from torch.nn.utils.rnn import pad_sequence\n",
        "from torch.utils.data import DataLoader"
      ],
      "metadata": {
        "id": "qNGCgZzxiayf"
      },
      "execution_count": 18,
      "outputs": []
    },
    {
      "cell_type": "code",
      "execution_count": 19,
      "metadata": {
        "id": "o54EcHwjQx2-"
      },
      "outputs": [],
      "source": [
        "# 순차적인 작업들을 하나로 묶는 헬퍼 함수\n",
        "def sequential_transforms(*transforms):\n",
        "    def func(txt_input):\n",
        "        for transform in transforms:\n",
        "            txt_input = transform(txt_input)\n",
        "        return txt_input\n",
        "    return func\n",
        "\n",
        "# BOS/EOS를 추가하고 입력 순서(sequence) 인덱스에 대한 텐서를 생성하는 함수\n",
        "def tensor_transform(token_ids: List[int]):\n",
        "    return torch.cat((torch.tensor([BOS_IDX]),\n",
        "                      torch.tensor(token_ids),\n",
        "                      torch.tensor([EOS_IDX])))\n",
        "\n",
        "# 출발어(src)와 도착어(tgt) 원시 문자열들을 텐서 인덱스로 변환하는 변형(transform)\n",
        "text_transform = {}\n",
        "for ln in [SRC_LANGUAGE, TGT_LANGUAGE]:\n",
        "    text_transform[ln] = sequential_transforms(token_transform[ln], # 토큰화(Tokenization)\n",
        "                                               vocab_transform[ln], # 수치화(Numericalization)\n",
        "                                               tensor_transform) # BOS/EOS를 추가하고 텐서를 생성\n",
        "\n",
        "# 데이터를 텐서로 조합(collate)하는 함수\n",
        "def collate_fn(data_batch):\n",
        "  en_batch, de_batch = [], []\n",
        "  for (en_item, de_item) in data_batch:\n",
        "    en_batch.append(torch.cat([torch.tensor([BOS_IDX]), en_item, torch.tensor([EOS_IDX])], dim=0))\n",
        "    de_batch.append(torch.cat([torch.tensor([BOS_IDX]), de_item, torch.tensor([EOS_IDX])], dim=0))\n",
        "  en_batch = pad_sequence(en_batch, padding_value=PAD_IDX)\n",
        "  de_batch = pad_sequence(de_batch, padding_value=PAD_IDX)\n",
        "  return en_batch, de_batch"
      ]
    },
    {
      "cell_type": "markdown",
      "metadata": {
        "id": "NY-_TOGDQx2-"
      },
      "source": [
        "각 에폭(epoch)마다 호출할 학습 및 검증(evaluation) 단계를 정의해보겠습니다.\n",
        "\n",
        "\n"
      ]
    },
    {
      "cell_type": "code",
      "execution_count": 20,
      "metadata": {
        "id": "v_vD9pEtQx2-"
      },
      "outputs": [],
      "source": [
        "\n",
        "def train_epoch(model, optimizer):\n",
        "    model.train()\n",
        "    losses = 0\n",
        "    train_dataloader = DataLoader(train_data, batch_size=BATCH_SIZE, collate_fn=collate_fn)\n",
        "\n",
        "    for src, tgt in train_dataloader:\n",
        "        src = src.to(DEVICE)\n",
        "        tgt = tgt.to(DEVICE)\n",
        "        tgt_input = tgt[:-1, :]\n",
        "        src_mask, tgt_mask, src_padding_mask, tgt_padding_mask = create_mask(src, tgt_input)\n",
        "        logits = model(src, tgt_input, src_mask, tgt_mask,src_padding_mask, tgt_padding_mask, src_padding_mask)\n",
        "\n",
        "        optimizer.zero_grad()\n",
        "\n",
        "        tgt_out = tgt[1:, :]\n",
        "        loss = loss_fn(logits.reshape(-1, logits.shape[-1]), tgt_out.reshape(-1))\n",
        "        loss.backward()\n",
        "\n",
        "        optimizer.step()\n",
        "        losses += loss.item()\n",
        "\n",
        "    return losses / len(train_dataloader)\n",
        "\n",
        "\n",
        "def evaluate(model):\n",
        "    model.eval()\n",
        "    losses = 0\n",
        "    val_dataloader = DataLoader(val_data, batch_size=BATCH_SIZE, collate_fn=collate_fn)\n",
        "\n",
        "    for src, tgt in val_dataloader:\n",
        "        src = src.to(DEVICE)\n",
        "        tgt = tgt.to(DEVICE)\n",
        "\n",
        "        tgt_input = tgt[:-1, :]\n",
        "\n",
        "        src_mask, tgt_mask, src_padding_mask, tgt_padding_mask = create_mask(src, tgt_input)\n",
        "\n",
        "        logits = model(src, tgt_input, src_mask, tgt_mask,src_padding_mask, tgt_padding_mask, src_padding_mask)\n",
        "\n",
        "        tgt_out = tgt[1:, :]\n",
        "        loss = loss_fn(logits.reshape(-1, logits.shape[-1]), tgt_out.reshape(-1))\n",
        "        losses += loss.item()\n",
        "\n",
        "    return losses / len(val_dataloader)"
      ]
    },
    {
      "cell_type": "markdown",
      "source": [
        "### 학습된 번역모델을 편하게 사용하기 위해 몇 가지 함수를 정의합니다."
      ],
      "metadata": {
        "id": "kSrVUY2hiey4"
      }
    },
    {
      "cell_type": "code",
      "source": [
        "# 탐욕(greedy) 알고리즘을 사용하여 출력 순서(sequence)를 생성하는 함수\n",
        "def greedy_decode(model, src, src_mask, max_len, start_symbol):\n",
        "    src = src.to(DEVICE)\n",
        "    src_mask = src_mask.to(DEVICE)\n",
        "\n",
        "    memory = model.encode(src, src_mask)\n",
        "    ys = torch.ones(1, 1).fill_(start_symbol).type(torch.long).to(DEVICE)\n",
        "    for i in range(max_len-1):\n",
        "        memory = memory.to(DEVICE)\n",
        "        tgt_mask = (generate_square_subsequent_mask(ys.size(0))\n",
        "                    .type(torch.bool)).to(DEVICE)\n",
        "        out = model.decode(ys, memory, tgt_mask)\n",
        "        out = out.transpose(0, 1)\n",
        "        prob = model.generator(out[:, -1])\n",
        "        _, next_word = torch.max(prob, dim=1)\n",
        "        next_word = next_word.item()\n",
        "\n",
        "        ys = torch.cat([ys,\n",
        "                        torch.ones(1, 1).type_as(src.data).fill_(next_word)], dim=0)\n",
        "        if next_word == EOS_IDX:\n",
        "            break\n",
        "    return ys\n",
        "\n",
        "\n",
        "# 입력 문장을 도착어로 번역하는 함수\n",
        "def translate(model: torch.nn.Module, src_sentence: str):\n",
        "    model.eval()\n",
        "    src = text_transform[SRC_LANGUAGE](src_sentence).view(-1, 1)\n",
        "    num_tokens = src.shape[0]\n",
        "    src_mask = (torch.zeros(num_tokens, num_tokens)).type(torch.bool)\n",
        "    tgt_tokens = greedy_decode(\n",
        "        model,  src, src_mask, max_len=num_tokens + 5, start_symbol=BOS_IDX).flatten()\n",
        "    return \" \".join(vocab_transform[TGT_LANGUAGE].lookup_tokens(list(tgt_tokens.cpu().numpy()))).replace(\"<bos>\", \"\").replace(\"<eos>\", \"\")"
      ],
      "metadata": {
        "id": "YAiWf45VVzTk"
      },
      "execution_count": 21,
      "outputs": []
    },
    {
      "cell_type": "markdown",
      "source": [
        "- 학습이 진행되지 않은 모델에 문장을 넣게 되면 의미없는 결과를 출력할 것 입니다."
      ],
      "metadata": {
        "id": "qVYcGI-9inZY"
      }
    },
    {
      "cell_type": "code",
      "source": [
        "print(translate(transformer, \"\bEine Gruppe von Menschen steht vor einem Iglu.\"))"
      ],
      "metadata": {
        "id": "XwDFH3f5hcnI",
        "outputId": "52df4a71-40e9-4659-aa86-4d2a4232879f",
        "colab": {
          "base_uri": "https://localhost:8080/"
        }
      },
      "execution_count": 22,
      "outputs": [
        {
          "output_type": "stream",
          "name": "stdout",
          "text": [
            " Büroarbeit Büroarbeit Büroarbeit Büroarbeit Büroarbeit Büroarbeit Büroarbeit Büroarbeit Büroarbeit Büroarbeit abzufangen, dadurch abzufangen, dadurch abzufangen,\n"
          ]
        }
      ]
    },
    {
      "cell_type": "markdown",
      "metadata": {
        "id": "Yz_dPyP9Qx2_"
      },
      "source": [
        "## 학습 진행하기\n",
        "이제 모델 학습을 위한 모든 요소가 준비되었습니다. 학습을 해보겠습니다!\n",
        "\n",
        "\n"
      ]
    },
    {
      "cell_type": "code",
      "execution_count": 23,
      "metadata": {
        "colab": {
          "base_uri": "https://localhost:8080/"
        },
        "id": "xYfBdpV_Qx2_",
        "outputId": "e15097aa-5cb6-4288-f4d3-0227a9865e31"
      },
      "outputs": [
        {
          "output_type": "stream",
          "name": "stdout",
          "text": [
            "Epoch: 1, Train loss: 5.167, Val loss: 3.851, Epoch time = 62.857s\n",
            "Epoch: 2, Train loss: 3.420, Val loss: 2.883, Epoch time = 62.818s\n",
            "Epoch: 3, Train loss: 2.632, Val loss: 2.377, Epoch time = 62.804s\n",
            "Epoch: 4, Train loss: 2.139, Val loss: 2.067, Epoch time = 62.792s\n",
            "Epoch: 5, Train loss: 1.807, Val loss: 1.919, Epoch time = 62.803s\n",
            "Epoch: 6, Train loss: 1.567, Val loss: 1.846, Epoch time = 62.820s\n",
            "Epoch: 7, Train loss: 1.378, Val loss: 1.785, Epoch time = 62.836s\n",
            "Epoch: 8, Train loss: 1.226, Val loss: 1.798, Epoch time = 62.794s\n",
            "Epoch: 9, Train loss: 1.095, Val loss: 1.760, Epoch time = 62.794s\n",
            "Epoch: 10, Train loss: 0.979, Val loss: 1.748, Epoch time = 62.805s\n"
          ]
        }
      ],
      "source": [
        "from timeit import default_timer as timer\n",
        "NUM_EPOCHS = 10\n",
        "\n",
        "for epoch in range(1, NUM_EPOCHS+1):\n",
        "    start_time = timer()\n",
        "    train_loss = train_epoch(transformer, optimizer)\n",
        "    end_time = timer()\n",
        "    val_loss = evaluate(transformer)\n",
        "    print((f\"Epoch: {epoch}, Train loss: {train_loss:.3f}, Val loss: {val_loss:.3f}, \"f\"Epoch time = {(end_time - start_time):.3f}s\"))"
      ]
    },
    {
      "cell_type": "markdown",
      "source": [
        "- 학습이 진행된 모델에 독일어 문장을 넣고 결과를 확인해 봅시다."
      ],
      "metadata": {
        "id": "bgfMwSVaizyi"
      }
    },
    {
      "cell_type": "code",
      "execution_count": 40,
      "metadata": {
        "colab": {
          "base_uri": "https://localhost:8080/"
        },
        "id": "ZcGXsUgUQx2_",
        "outputId": "35b58116-1602-41ff-d1c2-83290a19d562"
      },
      "outputs": [
        {
          "output_type": "stream",
          "name": "stdout",
          "text": [
            " Zwei Männer bringen ich was ich <unk> . <unk> \n"
          ]
        }
      ],
      "source": [
        "print(translate(transformer, \"just two of us in here.\"))"
      ]
    },
    {
      "cell_type": "markdown",
      "metadata": {
        "id": "z_pjbSJAQx2_"
      },
      "source": [
        "참고자료\n",
        "----------\n",
        "\n",
        "1. Attention is all you need 논문.\n",
        "   https://papers.nips.cc/paper/2017/file/3f5ee243547dee91fbd053c1c4a845aa-Paper.pdf\n",
        "2. Transformer에 대한 설명. https://nlp.seas.harvard.edu/2018/04/03/attention.html#positional-encoding\n",
        "\n",
        "\n"
      ]
    },
    {
      "cell_type": "markdown",
      "source": [
        "## 1. 최종 모델에 사용한 Hyperparameter의 값들\n",
        "- EMB_SIZE = 1024\n",
        "- NHEAD = 8\n",
        "- FFN_HID_DIM = 512\n",
        "- BATCH_SIZE = 256\n",
        "- NUM_ENCODER_LAYERS = 3\n",
        "- NUM_DECODER_LAYERS = 3\n",
        "- optimizer Ir = 0.00015\n",
        "\n",
        "## 2. Training 과정에서의 epoch별 loss 변화\n",
        "\n",
        "![image.png](data:image/png;base64,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)\n",
        "\n",
        "\n",
        "\n",
        "\n",
        "## 3. 비교적 번역이 괜찮은 문장을 최소 2개 이상 (구글번역과 결과 비교)\n",
        "\n",
        "### (1) \"Children like orange candy.\"\n",
        "\n",
        "![image.png](data:image/png;base64,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)\n",
        "\n",
        "![image.png](data:image/png;base64,iVBORw0KGgoAAAANSUhEUgAAAp0AAAFXCAYAAADgTvVxAAAgAElEQVR4nOzdf1RU16H3/zeNKWgTo/diMlRvb0DzrMA1T8C2CUOTsByCbUDTZjC5FZofgmmiUNIGtLdxtCsCtlckbaiEJBVtkoK9iTNpqpBU4/hgUoYk1SFPUsj3qYJtpU4ivRLiVSbG8P3jDII6M4Ay/DCf11qsdZg5P/Y5M2vzYZ+99wnr6enpQUREREQkhD432gUQERERkYufQqeIiIiIhJxCp4iIiIiEnEKniIiIiIScQqeIiIiIhJxCp4iIiIiEnEKniIiIiIScQqeIiIiIhJxCp4iIiIiEnEKniIiIiIScQqeIiIiIhNyEoW7Q3e2l66NjnDjh5eOTJ0NRJhGRAX3+0kuZODGcyZdfRkRE+GgXJ6RU74rIWHCh9W5YT09Pz2BX/uDIP/if491MueJyJk2K4POXXkpYWNiQDyoiciF6enr4+ORJjh/vpvPDj/jCpAiunPbPo12skFC9KyJjwXDUu4MOne2HP2DCJZdw5bR/UoUnImNGT08PHxz5bz45dYrpUVeOdnGGlepdERmLzrfeHVTo/ODIP+jpgauuvDhbEkRk/Hv/g38QFsZF0+KpeldExrqh1rsDDiTq7vbyP8e7uXLaP11w4UREQuXKaf/E/xzvprvbO9pFuWCqd0VkPBhqvTtg6Oz66BhTrrhct3ZEZEwLCwtjyhWX0/XRsdEuygVTvSsi48FQ690BQ+eJE14mTYq44IKJiITapEkRnDgx/ls6Ve+KyHgxlHp3wND58cmTfP7SSy+4UCIiofb5Sy+9KKYUUr0rIuPFUOrdQU0Or1s8IjIeXEx11cV0LiJy8RpKXaUnEomIiIhIyCl0ioiIiEjIKXSKiIiISMgpdIqIiIhIyCl0ioiIiEjIXVyh8+9/IOeK3/PHoW731u+JuvcPfBCKMonIRW/Lf20d7SJcONWfIhJiE0bnsO/y+BVv89OA70+kosWK9Ytnv+7Bce8ucn/b90paVQpVC00DHvGP66pZUOL7ZeX1HF4xe8ilFhHx5629+yAMFt21cLSLEtQZ9SCqP0VkZI1S6ASIZNuHX+crg17fCJy1C1I4/IzpjNdyCF5x/nFdNQu4nsMfzj79e9Q6VHGKyLB564/7mB4VxS03f220i+KH7x/2f+urB41//ncRldN/vUiWnrWl6k8RGS6jGDqHqoO//TaSpc/0D5cmrHmR5O7uAAKEzr//gcqSSLZ92FdBfmXF9fzHFe38ccXsIYReEfkse3jFIwOu89tttUycOJGvfmXOCJRoCP5+gNrfRrLtmf5BcTYPvdrOT3dPNwLk3/9ATuxZz09W/Skiw2gU+3R2sOCKaqIC/Dz+1tnrR/Iv3+qgcqun32seHBs6SIuJDHyY9mPUfesyvuRnX3845xgiIhdm/4HW0S7C8FH9KSLDaJRaOmfz0Iezecj32wdbHfyIpAH6FpmwPpMC9555O+g/Xs2i6qsDHO7fruDKs/b1pX+D3Fur+/qVfuuyoZ2CiHymPLZubcD3eltBv/rlOSz69zHYr/OLM0n/1i4WrHu3323xd3n81g6gg6iSt32vnXt7XfWniAyXkQ2df/8DObEHqfP75tl9i+DcAUUmrM9kYQ20/y9+jaoP/bz+pw/5APpVnB7++icjsD70VYzRlxuGcB4icsHW/+T/UvbTd4KuU/Af11H4o/89QiU605b/2jqkADlmAyfQW3d+aV01UVe8ffrV/3g1i8O9/7T7u70Oqj9FLiKjXe+ObOj84teo+vACO9m/9Xuibu0IssJZA5SmX0bab4/xV/pXmkb/0K89c2FFEZHz11upBaoARztwvrV336BD5NgOnH2+siKLwyuGsIHqT5GLymjXu6Nze33A4BhoyiTgq1/nsL/WTPD/n/oXv8bSldVn3Fb647q3+enK6zl8PmUXkWETqAIcC4FzKMZD4OwTYMq6lddz+OxGAdWfIhed0ax3Ryd0BguOeHDc2xB420G0dJ7dJ+krK7LY1v+2kuaZExkzzq4Ax1LgDDZiPVgfzzHL18Xpf/e/re7zwVYHUfd+yNvPfO2MPpyqP0UuPqNV746jKZP6+dbV51SMAxnybSURGTH9K7vRCpyfBR80vE/dyuv9Dr68cmESFdsaeP3vnHOXSfWnyMVnNOrd8Rk6ReSiMxbCZu9t8t7WznHZmhnElUlXkZbzNo/PnW0MAurng60N5HIVb/vr1iQiF6WRrnfHZ+j87UGuv+JgwLdPj6oUERmis4PnReWLX6Pqwyt4/Ipqos5+b+X1HH5Gt81FJHTCenp6eoKt8OcDf+Gamf86UuUREbkgw1VnDXXKpOGkeldExpPB1lmj+EQiEZGxa3yNSBcRGfsUOkVEREQk5BQ6RURERCTkFDpFREREJOQUOkVEREQk5BQ6RURERCTkBhU6B5hVSURkTLiY6qqL6VxE5OI1lLpqwND5+Usv5eOTJy+oQCIiI+Hjkyf5/KWXjnYxLpjqXREZL4ZS7w4YOidODOf48e4LLpSISKgdP97NxInho12MC6Z6V0TGi6HUuwOGzsmXX0bnhx/pVo+IjGk9PT10fvgRky+/bLSLcsFU74rIeDDUenfA0BkREc4XJkXwwZH/vuDCiYiEygdH/psvTIogImL8t3Sq3hWR8WCo9e6gBhJdOe2f+eTUKd7/4B/6z1tExpSenh7e/+AffHLqFFdO++fRLs6wUb0rImPV+da7YT1DqM0+OPIP/ud4N1OuuJxJkyL4/KWXEhYWdl4FFhE5Xz09PXx88iTHj3fT+eFHfGFSxEUVOPtTvSsiY8Fw1LtDCp0A3d1euj46xokTXo2uFJFR8/lLL2XixHAmX37ZRXFLPRjVuyIyFlxovTvk0CkiIiIiMlR6IpGIiIiIhJxCp4iIiIiEnEKniIiIiIScQqeIiIiIhJxCp4iIiIiEnEKniIiIiIScQqeIiIiIhJxCp4iIiIiEnEKniIiIiIScQqeIiIiIhJxCp4iIiIiEnEKniIiIiITchNEugIiIBPdpTw+nTn1KT08PPT09o10cEfmMCgsLIywsjEsu+RyfCwsb+vY9qsFERMask5+c4tNPPx3tYoiInOFzn/scl064ZGjbhKgsIiJygU5+8okCp4iMSZ9++iknP/lkSNsodIqIjEFGC6duRInI2PXppz2c/OTUoNdX6BQRGWM+7elRC6eIjAuffvopnw6yp6ZCp4jIGHPqlAKniIwfg62zFDpFRMYYje8UkfFksHWWQqeIyBij0Cki44lCp4iIiIiMGQqdIiIiIhJyCp0iIiIiEnIKnSIiIiIScgqdIiIiIhJyCp0iIiIiEnIKnSIiIiIScmMjdB6qISMsjLCwMDK2eAZev9NFidlYPywsiqxfttDte8tV5Hv9rhoGsadh5dmSMWrHHnGNJb7rn0HNodEujIiIiIx1YyN0DkWni5LbkrA1ApjIfLaB6vtjiRjtconIsGn/+2GeeGojJ050D7juiRPdPPHURtr/fngESiYiIudrfIXOMwJnNDnPN1B9d/Rol0pEhtlvf7ed/QdaeeKpXwYNnkbg/CX7D7Ty299tH8ESjlPedpocmyn6Xgbp5jiuvdb4uSEtg/t+WM7WvUeCbHyErd/1bVPaNPRj7y31HW8pW9/v9/r7dh7wlWPd3qHvtsOx1Njvd+10DH3zsSvgdQn8OTSVxl2c10IuGuMndHY4sZ0OnGZyf7eLjXeeGzjNq3ro6emh5/lMTCNeyM+QxJXGde6xkzljtAsjF5vse+/mi1FRvhZP/8GzN3C2//0wX4yKIvveu0ehpOPEqS6aqpZykzmVbz9SSvXOFg4c7Xu7q7WFxpeexJaVzPVZ5TQqsYhICIyP0NnhxLYghRJf4Fy5o44NC9TCKXKxmjgxgtwH7w8YPM8OnLkP3s/Eiepk49epdrbmJfPt0no6jocTOTef0q07efPtZt57z/h5u347T+UnMhnw7n2S++YtZWv7aBdcRC42Yz90nhU4i1+rozh1SsDVAw4k6h340vu6x0nFsgySrvGtf00SGcsqcA4wAqj70JnbRV2XTt4vXHQO8nQ633VQ1v+4UXGk3JVHxcttAffRe04ZWzxw0ElJZhxRvjIvKaqjLVi3t6Yy5oSFERaWQtV+vyWibpmvLPOqaPN70k4KfYO2jM+BwQ0k8jipWrGElOuifOvGkDRvCSVbXHg+CVJmEQIHTwXOofBSXzwf224vEMPCsu28XvkgC2ZPZ3J431rhV8WQvGwTr22zkTwJOF6PraCGA6eGsShfXu4LuZUsvGoY9/uZM42FT/v+YVgeP9qFERmSsR06+wdOk4Vil5OVNwUOnIPVti2PpKgU8ioduHqD2H4Xjso8UqKSKGn0l+K6adm8hLh/OXM7z7t1VOQnEXt7GQ1Bk2cnztUpxF6XQWH/43pacL5QQV5aDLG3l+E+FmQX+6vIMqdg29JiBOf9Lqraupka7O9tfBIZJgAndW/5S9QtNFT6Fnc6cftbpclFNQBZmAdVxxnXKiYqhSWlVTjf7d1pG66dVdgyk4i6OY+6g4PZl3yW+QueCpyD520oJX+LF4DkNU9RnD496Prh12Sy6j+SjV+aSnlyZ1eoiyginyFjN3QerCPvdOBMY/3LtaxMHIY/Lq8VYL29grYFxdS2HPX1SzzBUfdGcmYBuLDdUYzzrNzZvdOGJdtoCTR/r5p9R04Y2544yr6aXKK3FZK7piHAQbtxFaWRUuTEQzTWdbto/cjX9/TkCVqd67HOAs+2QtKW1fhvbQQcq23UXJ1L9Tu+ch9ppnlNGsFjeAJmX1c3x2v7zm1NbWqg7vQvNTS8c27gdrvsRshdnkbSID6Cti05vmtlwvKDfteq5wRH3dUUzDVBYwXpi0pwBQvZIpwbPBU4B+sI235Vgxdgej4PZQQPnL1mfPNesq6KIfGbmcRPC7LiqS6aa0vJvyOZ66+N49prE7jpjnzW1bbQ5a+FNNBAokHwtjey6YfZpwc/XZ+cyfKqRjqCtcT2Hu+7djpOtVNfupSb5sRx7bWJpH+vlB2t3rPO5wiNW4r7nY8xwCq/1E5ToPL2PwbA+2eW81rzfO774WYah3i+wZ3ngK5T7WxdmuD7DOazbq/XzzpdNNeWszx7Pjdc23utM7jvh5upb73wf0A69tpZ138Q25xkrNnL2bS71f93hr7BUQ84jkB7PeuW+j4f83zyS1/lQP/TONXFgd015wyUuz45g/xHawKcQ9/1XLeXoX+v+59fw+Yzrt0NaX3bnR7wFugzC/G1HyvGZug8WEfeonQqem/lXp1E0qxh+uPi8eC5bSMNv1tJ2rW9cS2CKfE5bHh6pTH4yFOF693+G7mpWFGGBzDdXU11eSYJkb7yREwhYdEG6uoKwBPg3nxTBQWrXYCJzJpd2JdbiL7M996ECKLnFmDfWU2mCTzPZVHyYqAmUxMr164nc7av3JGxxM4Y6LpEkJRaYCxWOtl3VqZse6sON2BONANQ3eg+a3s3zmeN13JvnjPw1FQddZQ9bHRhMK9xUPtYv2tFBFPiM1n/OwfFiUCjjdzKs48n4l9YmP9lCeD9PezcYyzO+Pdk4i4Z5Hbhiayq386v/nM5WV+e7H+do41U3pOMtWAzO1qOGMEWLx0tr7KpIIOb8+wcGpZb814ObMnn5pRs1r3UeHrwk/f9JraVZpNyz5O4PhpoH61U583ngap6Oo4DdHFg59/wTu3rX+D9cw35NyVz36M1/c7HGGC1o2oV306ej+2V4J1c97+yivTkM8vJ0VYaXyrlvuQAIW+knGpnW0HG6W4W2dV2Vnw5/Mx1OupZtzAZa8GTbGtopTfmeN9vofGlUh5IS+bbT7dwXmdxvJXq7ydyU9YqNvUfxHb8CM0NtaxbOp+b73mSpmDZ6sAWHliwlE27fZ/P0VZ2tHuZ1nsa7a9iW5BI+tLicwbKed9vYceWYh5Im0f+S0E+x66W8/ten2pn2/cTuSm79Ixr19Xq226g72kor/0YM/ZCZ0v1mYEToNGGdY2TgWfsG5zcpRn4G4YUYbaQBYCH5rZ+AbLJSXUTQAKFD2f63XbKbbkU3+bvaN04n1+PC+C2YooXBRgAdXUmecuM8fZVW+oCTC6fhcU89PAd8VULuQBU4zrjn6xOWtxOIIGM/BwsgOe15jNbWvfvo64JIJe0mwfu2tC2rYIKD2BaSfFys/+QepmZnHwrAO7H6oxrIxLA2X04BxrVLgbv/9dCvW953vWxw7tzRzmP753Owh/X8Oo+X//CfTv51bJ4wgHv7lUUPn/hI5G8e0qxPvoqXcBMaxGO193Gsd6ux7E2gxl7y7E93hh8J3s2U7l7OgvX2nnzT82896dGal/8IfOm+t5vt5P/78XsOArhsRkUb63n7T/5Bli9bqf4rljCaWXr9x8IHBz/WMwD37dz6MsP8lRdo1HGP7l5favNd5xWNt1fSuNopIZTR6j/yQMsf6WLgIHzeBPr7lnKphYvTE3koU07T1+D9/bt5Ff5iUzGS9NjmeQ7hvi5nmpna0EGRa90AZOZt7zfd8b3OcZNAu/ecr797XKaAlyj+qonqTdlUPyi7/q6tuNYfiuTAU61UHl/PltbgZgzP8P33m7k1U0PEj8JoIsdjz7JjgDhtrogs+97/Xbf+T91b2yQ77WXpsd6r6/v/N7u9/2xxuDdW87yn9T7OWKIr/0YNOZCp6Oo0Aics3Kwtx2lYVUCAJ7SLHK2BLrxPBQWEmIDhKeIifTWQ939Brq0vdOA0R6XQVLAPo3RWO6w+Hm9BffLRoRMSJ3jN7D2Skg0Ii8vNLDPX2PnHXOIPp8G3ylzSLoTwIPd1a9lsXsfzkrAlEHSnXFYTMDOOlz9BgZ53qrDCXBnEnMGzJydtLzlu1l/RxJzgpTV9NU0LAAeOw3nMeWffDb4GzQUbFS79Pmoo/cPVCIxwz6tWThZT9spXhTPjEm+lyZNJzH/cVbdYvzatKfpwuaKPNXCpkeN7gHhc4t4qiiDuEhfWAqfRpy1iC2VmXB84CQX/h0bq6yxTL4EuGQyM2OnY+ypix2PFVN/HIhZzDPVRSycPY1wX6tweGQsC9fU8ExODNDKphWbafbX0nXcizfehuPZfJJjfK3Dl4QTOTuT0rJM41jH7bzRciEX5Hx4aXpsMQ/8upWAgRNo/rWNTa3ApGSKt25iadL009eASdNJXLYJx9pkwvFS/8h/su3oObsIqGvnzyna7QWmk71pB+U5/b4zvZ/jLxczE6D1SX76QmuAPYWTZbOxMNZ3fafGEDfdOBfvG3aebAWIZ9WGMz9DwiczIymfZzb0fQ5Nfw5wtY7T973uvUyTppP8o3JW+P72n/O9btnMyqpWIJzktXbj/Hq/ppGxLFxr5zc5MQGvTyiv/Vg05kInAIm51O7ciPXqKZhXVBi3YvFQ87CNmgsefDKFoXYD8xx0GAt3RgcNjVFXJ5z7Yudh2nyhyv3wHN8obv8/E+eV+TY6TKe/vo4TYOLQiu5jwpxqBGK3q6WvFfVd3wChu80kTIgl4Q4ABw3u3sTbyb7XjHO33mEZxLynbbT0NltWpjM1yLmGXbPECLO46VZmED8CjVIfaDolMRw60NuyEg4Thnnn0x8g45ZzwwtMI/HWRGNxdzMX9ITc/1ePvR1gOg/mZjDDT/eAyXMXnw4DwSy8JQF/peWv29lU68UINPm+1rCzhRN/z2KSAdqfYnuAf5IX3DefmX7KGP7lm1kIgJfmvwSbfH+4eWkqzeDbVcEDJ95G7EZiI365jYUBuv7O+OYDZE0CeJXtuwd7HkfY4ag1bgt/4/s8mOS/u0b4l/NZ9R2jbE2bd/gP9mRwi7/yA4daW5k5O4bJt2Tw9QD5Lnx2IvN8ywcOBSh/wO/1dBLn++4WvHHgjO918247BwBm57Pim/4uXjjxS5aePvYZQnrtx6axFzoTV7Jr2wbSrvb9fpmZgp8VYwbw1JC1qAT3GP37EnH51HNfPNbJWHg4X/TcTKNlsV8rapvbiQewJsQRwRTm3Gzc8rY3+f4d72ygrhIgjbSvDmaq/W661Wopw2CgaZEUPAch3P8f6GFxS6zRMuVHxIThOe6hd970/XGfh3l2oLX6hYGAEomd6b9MXc1ujCrrVm6cHaTcVyVwy2wALzv2+muujCX+fwXo/xp+RV/gHc4pqILqwvX0Yu6tMgLNgl/U+A+cAK1NRksv00mODzLY7JJYbvymsVj/h7cZ1NAWbzMtvn7FybfcQIArBISTmJppLLa/SbO//mU3xhLgY2Tmdzbh2LqdN5/OIDLQISZHcnpcXKDPIcj3+opJVxoLZ7Sst+J2GncUZsxL9PtPBwBTb2Z+up/XQ3ntx6jh/v/3glnz87Cc9a2JSCygYm0tcx5xGYNPSi04VwXoLziaPjlx7msTIk6XM/P5w1TfOUrPSZo1h7R4cDZV4HxrPWmpnbh2OgHL6UBp3PJ24HQ04F5lJvYtJxUAqVYsswZzkAgwAR4wrd3H4R/5afkVGYRNzzw34Cj13uBZ8aQRTjc98xy5D94/CqUdm2bMSATqAS8M97y4k67w33I4jDr+4uureUsMwXoHzPhSAhDsvnXglt5Df+39L7mW/BtqB1WuQx/6u51/JeFfGNTmI2NPKcv39P26rWo7D1oy/Yairr/0tty18/gdcTw+mP1/9CEfD2a9zo7TrYIz/zXYVAjAjBgSgUYaafUAZ2ewcIb2N/94F10fddB6oIU//dHNG69sZ8dA2wz5e91Fu2/Q8czIgHEXmMyVfv70h/Taj1Fjr6XTrwgSflTNRt9AHddqK7adI9eqYbraaAHkheaA0xkBtLX5qfhM0cT5vmwth0azzTOBJKtRkOpGN3Tuo+EFwGRhTm+g9AVTmhpoOQjuRmN2zoTbgvdF7RNFbKqx5Pnb4UFPmC9ytm/dPp+ZMdEDTovUGzxnxkTzrdvnj2AJx77I6b33GRtpvaD73GNb+BfOP/5+/OH4H5gRWAxZ+ZlGy11TMevs/s/14+NjZN66CVzYPzKnjtDk6Dfl0JxEbkiez7ezl1P0RA07QjHt0PsHjFvr52nMXPsRNOZaOgOLJueJauqis3DgoeyeHOa4qsm8euAtL/jI1yWRgAM3dTQ0FQeYIL0T926Hn9djjXkyS8H9rBP3DxIYrfa/hJtyMFGCx9GAO7UbO8DdZvpuTiWQtABoctDgdnLY4QESyJo72BKbSLjZAs85odKBc00a1mD//IkEMP2LUYNutewNnnKW2AQWsJltwI63W1hx4+BHsDeVz2fNnxOZP3c+t6fHExnqZs0LcSGtuOHhgBcmPchv9uVz8TzfJ4bsZ2pYcWM4jR/Wc98z7dSvLmbr1yrP7Td4uvUzmdLXK1kwWnX2J5z/lEDHm1i3MNMYkNNr0jTiYmYy88s3c2NiIok3fkjNnGw2DUNRT7tqJjOBAOPSBzZWrv0IGictnT5XZ7K+JtM3l2YNWSsCT6Q+rOKt5N4G4KZwrf9jdjdWsH6zv40jSLrNN/9nUyHFmwOVuBvX6jmEXZNEyu1luELwmMjTU0I1NVDxtDHh+9lzb8Z+1ZhcqWJNoTFNlCnYiP1zRc/NJA2AKorLnQFbO9ueyzAeATovD8dF3AojMmom30Cqrx/Zof+qDzA4ww9vI9t+1UrzzhrWPd9M9ygFzsh/9Q1I2tPK/iBlP/SX8x8SPqP3GMf/xgfjuaPc2W5ZTPaNk4FwEh+y+Qah1FNUfO48k5H/GutrYdxPoPE1521K5OmuEQcGGETlPdCC0aEikZgh9ULrYseqxb4R4LFkl23n9bebeW9fPY6tmyj90WIWzo1lxifHGP4hOJOZ7utv3HgoWKt5Fx/46aca0ms/Ro2v0AlELyqj4m7fN/KFLLJ+4h62+TuDHJWcteuNwUwvZJF0ewnOg76jftKJe0sh6XfYAs43GTHXRvVyo8yO7CRSHq7B3dFX6u6DLqryLSQVuWG/iyl3WjGHog06Yg6WpQAOqja78Td91JSEJKwATW7cgGmZxTjvwZqVw4anjdjpLkphzl1lfdcK6O5ooe4n6STd4wBPC0cTs0gb9ulcRAQmk5y52Pij317O4wFur57t0EvPUH0cIJwF980P2p8ylGZcd4Pv2DtwB8yVXbgbBpinM4jI624mDoBatr92MaXOfiYl89DadN88k8UUbT8r3cRe7xtd34599zDP6RQeR6xvCq36PW8GGQDjxb3H7itvLLOGEjq73mRnrdFGGvdQKSvSY/y3zP91P8P/KJIY/u1G37RNe5oD32r3unnDX5fhUF77MWrchU4wYX2silzfl9L1SC5lfp+VPsziC6jbsRKLCTzbbKRETzSm/rl0KnMyy3BioXhNboCNI7Csa6D2e2bAg/NnWcyZNrFvqqToJJb8wnhiUdpj+6i+e3A9KIeub4S6cU5pff05e80wk5ba+4uJnJuG3hkg+n47+x5LwwS0vVDYd63Cwpg4LY70R4zJ783fq8W+ZgwOCBO5SIR/OZ9Vi4w/ivWrH6BogOlWut4o5YHVvpuFt9h4KDXweOOQi13A4niAdh4v9/8kGO/ep3jylQs4RkwyGb47OTsee4rGQKmo3c4D1yZw0x0ZLK8df/1AJ39jBcVzja4E9Y+uZlv/x3KGJ5Lqm67oUHk51X8NsJPjjaxLMR4N+u2nmwZ5K3wa86xG4OWVn/Nkg/8L7N1bTtGvjT3OfHA+8YN9ehbAx96+MBtou1PtbK146sKm8Aogfv4DRr/Zd0tZ53fydi9N5aXG9IRnC+m1H5vGYegEItNY/2yBb95IF7Y7Cqm7oFmIB2dKajG7Wpqxr8nBMtuXemeZsS7dwC73LlamRgXZOpq08gaOuu2sX2rF3C/sRSdayFm+kV1/a6P2BwkhDWGmr6b5bn8DC5L89C+NZs5tva+e3xOQIIKEH9TS9rddbFze71oBptkWrEvXY3cfpaE8bZADlETk/ISTvLyGh74cDrRSvYsZdowAACAASURBVHQeNy19km3vttPV+5frlJeuvzZRvTqDm+/dbLTWxGRQ/mP/c2OOnOlk/Tjf+IO+ZxXp95TT+FdfoU910exYxaL7N1/QQA6YTtZam9GXs30z9309m8qGdry9Add7hAO7y/n2glXU46WjK5GMuYN7hv3YMo0FNpsx1+jxemzrXu3X6hhO4sM/77sF/60MbI4WOvp9Pw7trcG2MJtN7dDVeiUL0+MHPehncur3WTU3HGhnU/Y88quaOHTc96b3yJmfY8xiSr4zxKdnRcZzi+8fh+bHbDx+xufX5Sv7fN8jQEMgdjElOTGAl/pHHsC2pYlDvYc62sq2n2SenrrqXKG99mPR2BhINCMTe0/mkDaJSF3P4Z7157xuXtVDzyo/GySupKdn5QB7NbOyp4ega02JxbpqI1Z/xzANfIwp8VYKnrBSMEBJzihVoHM6H7NyqO3JCbpKwg/20fODAfYziOsZMcNCzjoLOeuGWEYRGT6TYln67HZmPJqP7fkWOnaXs3x3ecDVJyct5+mfLyZ+FBs5T4t9kGee/ojvfn8zzXuf5L55T575/qRYlubEUVllP/9jxGTyzNYu7r2nnKajjTyenep/6pqYDMp/uZxEvxPIjwPTM1hhs1Nf3IS3djlFqfWUfsP3IU9KZtW2crz357O1tYWtj2Sw9RE/+5gUz0PP/jzgJOZ+XTKdhWV2vI9kUvRKFztKM9lReu5q4bGLKf/l8gAT9Ac9MRYufxD7/U/SfLyJyuxUKs9ZZzLzflzJjW9kU/QKNB5oBwaYwmnQwol/+ClK2zNY/korWx/NZOujZx39Gw+SdfRJNr3hZ/NQXvsxaHy2dIqIyOBdMp0Fa+y8uauG4uWZzJsdS2S/P+6TY2KZt8jGU3WNvLlpjAROn8hbluP4P3ZKc24l7ipfG8/UGBK/uZxfvWznIcuFFzZ89oP8xrWTX/04k3mx0/pakiZNIy4pnaVldt7cVsS8cf4Hf+aiVTwUA+Bl2yPlvonJfabfSvG2RhxlD7IgKabfRO6TmTn7VrJ+vIlXXTUsDTaJfiCTYsj6eSOvVxeRndrvuzdpGnGpmazatJM3ty4n+TxHb4d/OR/Hy5tYtajfd4RwImNvJevHldS+2Uj5okSSbzSaRL2vNA5+YN1gXDKdBWU7qK1c3u/aGcfPLrPzatkiYoJdtlBe+zEmrKenp2e0CyEiIn28H58c7SKIyLA5wtbvJmPbA3G27Ti+E/hZ7ONZ+OcvHXAdtXSKiIiInIem8mTSF2az/JmmwKPz+z0ONPiTiy5+Cp0iIiIi5yHmf93AgXcb2fYTO+7j/tc59NJvfKPXb+WWG8dQ35VRoNApIiIich4m3/h1FkwCsJN/f78ZFgCOt9O0ZdXpachmLstm3tRRKeaYoT6dIiJjjPp0iowf3r3lLLr/SZoDtHRCOHF3lVL+41tHeRqy0BpMn06FThGRMUahU2Sc6Wql/oVKNm9/E3fLEbxA+FWxJCQmk3H3fSyYffHfVlfoFBEZhxQ6RWS80eh1ERERERkTFDpFREREJOQUOkVEREQk5BQ6RURERCTkFDpFREREJOQUOkVEREQk5BQ6RURERCTkFDpFREREJOQUOkVEREQk5BQ6RURkXOlwLOXaa+O49rt2Oka7MCIyaAqdIiIiIhJyCp0iIiIiEnIjHjo799dRsSyDlOuiCAsLIywshqR5SyjZ4sLzif9tXEVhhIWFkbHFAwedlGTGERUWRtg1SSwpqqOtu//a3Xgaayg74xjGuhnLyqhp9Ax8DMCzu4K8u5KI8W0fY84g7xfOgGXsde52Syh5sYVOwLMlwyhLkSvQ1aHlxbIzto+6LoWMZRXU7e8MfmARERGRMWwEQ2cnztUpxF6TTl6lA+e7veGvDdfOKmyZSUTdnIfjYJBd7K8iy5yCbUsLHoD9Lqraupka4Xv/mJuy26OJMmdReMYxjHUdlYVkmRNI+YmLbj+7B+CTNuryk4iy5FHxgou23lI2OqjITyHq5hJcx/xt2IYjO8bPdlXYrHHE3l5GQ7Dc2OHEZoklzlp4xvaed504KvNIvyaW9J+5A5dbREREZAwbodDZjasojZQiJx5MWFbZaT5ygp6eHnpOnqDVuR7rLKCxggxzFo5D/vfiWG2j5upcqt85amx7pJnmNWlMAaCTuhVpFG7zgCmNYmcrJ072nD7GYXc1uYkAHpyPFFD1rv9jNKywkv6LNtLW1tJ8xLf9iaPs25RDNECjDeta51nhrxtXURYZm9uAaHLKGzh8wtj2xJF9VH/PjGdbIRnLHP4PesxFyYIUSnZ7YJaV9f3L/lEru9ZZicZD3cNp5Gxp878PEZEAvO2NVD+ajzU5wRiAc20i6dnL2bS7la5TATY65eXQXjuP/zC733ZxXGuez30/LGfr3iN+N2sqNdZ7wGG839GwmeXZ87nBt/0Nadksr2qkI9Bx+5V50w+zSTcb212fnBl0u0NbMn1lzGfb0WA7bqRojrHPoj3e4IUQkWE1MqGzqYKC1cYtZeumBnatsRIb6WuenBBB9NwC7DuryTQBnhpyy88Odb1MrFy7nszZRswkMpbYGb797LdTUekBTBQ8a2fl3GgiJnD6GKb4TDY8t5E0AFw43/F/m93j8ZD2dAO1P0ojNtL3YsQUEhZvYOOPTMY6m120+D0/E5k1u9j4PTMmX7EiIhPILHfSsMYc8PK4f1mArREwZVK9005B/7JfFo1luZ1dNZmY8FCTWYJDwzVFZFC8ND+dyQ0p2RRteZXm93tDVhcHGmpZt3Q+N+fVcOD4WZsdb6HynkRuzVpF5UuN/bYDjrbS+NKT2LLmYS1vImBs++QAOx6Zz03ZpWxraKWr98itjWwrzeamBaU0nX1cX5kPbMnn5pRs1r3UyAFfgPS+38S20mxS7nkS10fnbjXDkkEyAK+ys6Hr3BV69/7Gq1QfByZlknpjeMD1RGT4jUjodG1bjwsgfj22xdH+V7o6k+K1RiT0lNZQ5zdYZWExR/h7g84/t9GdaiF2Vh4Zqf7XYdYcLPHGYsPBwwFKm0vunf7KGEHS3Cxj0dNMW7/M6t5ZbZxfqg3bIv/bmpcWkuPvcN1O7OuMQJ62tpjMq/2XKnpRHnkmgCqqd/oPzCIi/R349WKsjzXhJZy4u4pwvO7mvfeaee9PjTjWZjAT8O4u5oHHG/uFxy52rMrk8b1emBTP0k07eftPzb7t3Ly+tYiFMQBemp+wUf1n/8du/OlS8h3txC+rpNbl2/7tehw/vpXJAK2bufexxnNCq3dPKdZHX6ULmGntV+a363GszWDG3nJsjzeee8CrUpn/DWNxx87X8B87u6h/qQaA8EXzSVTmFBlRIxA622h+zQhJJmsSCUHWjJ6bhRWAKva952eFO+YQHSBPTrmtmF07dtH855UEblOMIuoaY8nzSYDekakJxE7x/1bE5VN9S910nx5Q1Ma+nW4AEm5LIjbQoSMtWJf6ef09N3UegAQsCQECubF3zHcbS47X9qFhRSIS1NFaHi9uAmBmzma2rMkgLtKXsi6ZTJy1iGf+M5lw4NAz5Wz9q2+7v25nU60XCCfr55t5KGk64Zf43rsknMjZGRQ/acP4/72VN97xf5vde9xLvM3Ob/KTmdlbdYZPI25RKeXfMcrhdbx55l2jUy1serQGLxA+t4inivqVOXwacdYitlRmwnF/7auTSf5GurH4yu+p93eL/ehrbK8FmM6Dt8UHvnYiEhIjEDo9eHYaS0mzgoUq4Oro06Gt5W9+WvMmwMShHLq7k87ONty766j5hY282y0UvDDANlMmDu0Y/c4v2hQVbMdM9fN259/aMCKrm8KEsL7R9uf8TCSl1LdRR6cGFIlIUB27t7MDgFt5cEk8/hr1Ir9xLwunTiNudgQdh422wa4DrXw8O5bIqZks+FqApsAvJZA83VhsPNQeoATpZN8e4+f1cBJuyTAWj7fwt/53tf5fPfZ2gOk8mJvBjEvO3Xry3MWsCJAXJ8/NIGsSwKts331uGO5q+L1xTaZnkBywhUBEQmXCwKuMrKEFvrN10vaynYoXaqh72UnLSNyFPtTGvgvYvPtYoNv8IiLny8uf3qk3Fud+HfPUAKuFJ7LKVX/GS5Pn2nDMHWj/kUybCbSDN1CnztkJzJwc4LBf6Auz3n4Dgw698ybGONJ5mGcHOvZ0EufHQlPLuW+FJ5BqDaf6117qX9lDhzWDyNNvdlG/81UAZvx7MnF+Aq2IhNaYC50nznvLNmruSSLruf5JMxpzajRx8WmYzUkk3WzCvSyGrIFaO4diRjRzgADj0gc2obe/QCb2w9VYTcNTLBH5LOviSG8DZMz0fsHrPHm76Dr+EYda9tPc8iZvOLezY+8A2/xTOFcM8TAdf/H11bwlhhlB1pvxpQTAT+gknMRvPcCMX5dzaI+d3/81g6wv+d56fyfbXwGIZ/E31MwpMhpGIHSaMKUCO6FhfxsQJFXtb6Z32vTYfxla+nL/LMsXOKPJKa9m5WIz0ZedsxZ1ATq9n79+53fwMIHPr5Ojfho1TdFxmAAPLcbgJIVOERltp7o4sGc7NQ47v/9DCx1+R5mPnv4tpeeITSZjejmPtzex7Q/tZH3J6AdwyGmnHiB+PslfCry5iITOCPTpjCbuZt9UQ44GX/9F/9pec+AEwEpcgFHc/rlxPuuLq9/bwIbv+QucQEcbLU1D2e9g9Du/3fsIOItm9z6clX5en23GGBPvpnpnsKsjIjICTrWzNS+Z9KXFVO/sDZyTmTk7lnmLHmRVWQ21r2+n+JZRLGOwJ8NdEkvyvxtBs+mlet/t+nbqXzIq/+S7UoO2oopI6IzIlEnmBYXGiPKmQoo3B4hlB2uwPVIHgGlpDmlDrBW6e++qRwQY3k43rsr1VA1tt4Ny+vx22rD5nby9G1epjTJ/G0ckkeab/9O9opiqQE9kOubClhBGjDmF9J8FeoymiAhAOJMv9y22thN4at8udhQkcNMdGVirjFDWXPUAtt1eYDLzltfw6r5m3nuvkdqtdsp/nE9WejwzI70cOTD8pY7810RjYU8r+4NMHn/oL/5urfeJ+8ZiY3R9k536VqC1HnsTwK3MnztteAorIkM2MpPDx+dS5psc3ZGdRMpqBy0dvvHXn3TTtruMjNQsajyAKZOyFb1PGRqsWMyLffelS20UbnHT2Tu8+5NuPO/VUXZXHEmrQxTWTp+fh5rMLPI2u/D0Hr+jBcfqdKwBjx2B5ZFqCkwADpaYU84pf1tjFXmpSZQ0QVvjFLLuCDwplIgITGbO14yp0tnt5k+BBvt4m3ljt5eOlhamTZ0OtFD/X63Ge9b/pDQnnhmT/Gx3tJWWQIPWL8CM627wtULuwB0wV3bhbvAzT2d/X0pmQTxAC9veaOfQG9tpBki/neRAg6pEJORG6DGYEZhX1bFrlQUTHpxFGcRNm2hMBXTpRGIshTj2A7Ny2Li7KuAE6cH2b/luBTmzAFxUZM5h6sSw0/uPik2n8IUTWFbVUrvWN1PoO20M3+D2CMyrqrEvjjaOn51EVO/xp8WRUeRk4uJiVt4RYPPLLKx31RqP6fQ4KTur/DHmJVQ0AqY01rurz+P6iMhnTeTc+cwDoIZ1AZ4cdOilZ4yn85xuAfTyce/8lgG7TXpp2ljpm45pmMUuYHE8QDuPl9s55Ke107v3KZ58ZaAdTWfB3bcC0LTbjn2P0Yqb9c2bCTCgXkRGwAiFToApWNbsouXPtWxYasU8q/f1aMx35rLesY+jLRvJuTbQ7fEBXG1l41vN2NflYk3smw80OtFK7rpqGg4fZteaNCyJacZYnRecNAzr4ySjsW7aR2vdBnLvNBvPacdE7Nwcih3N7NuUQ1ywYVtXp7HhtaPsc6zvt72xX3NqDgWbdnG4rZaC+PO8PiLy2TI1nYdsxoSWB6oWc295/elHSuI9QrNjFQ+sNqZLird9nwVTAWK50epLm1tKKXK00NGbVk956WitpzI7mW9XtYao0NPJ+nE+MwH2rCL9nnIa/+orwKkumh2rWHT/ZgZzZ39y0teN0L3nSSp3o8deiowBYT09PT2jXYjPBg81d0WR9QJYnm5l1/0DTJQvIp9Z3o9PDteeaH56MYseC/SM9HDillXyq9xEJvfOW9leS/7C5ezw90Sf3m3u/TkPfqGY/Cfa4ZYiXn+6bz7MptI4vl3FOa+fYW8p12ZtBpIprq9k4VVnvt2xp5Tvfn8zzf5GzU+KZemiOCqr7MGPgZf6RxN4YIuv1N/ZxJu2xMANuCJyQcI/f+mA64xgS+fFy/2TOJLmZZBX6Qr8eMruZvb55geNNalTkYiMhHDivlvDa3WVrPhmYt/jKCdNIy51McXVO3Dk9wucANPTKf+9ndJl6STG9N2MnhyTyIJlRfym3o3jR8kkf8V4hCZ76nEFDKjnJ/KW5Tj+j53SnFuJu8oXE6fGkPjN5fzqZTsPWQZzkzycxNRMX8iczoPfUuAUGW1q6RwGndvymHp7BZBL7UcbSPMzXVPbcxnE3OMAcrAf2Yj1gmdrFpGL1fC1dH62eRuKuSG7Bu/0fBw7HtRTiERCSC2dI2SKOY1cE0AFOZklOA/2ezL6sTZcm/PIusd4ZpF5bS5pCpwiIiHmpXFnDV4gbvE8BU6RMUAtncOku7GE9DtsOAMOiTdh+UEVGx9LQ705RSQYtXQOg3Y7D6Ssop54Vu2o6XscpoiExGBaOhU6h1NnG3XPlVH1opOG3S14ANNsC0k3p5H13Rys8UObfVREPpsUOs/PoT12DkyYDp7X2Fy6mcajGkAkMlIUOkVExiGFzvNz4NcZpBf3m1V+Ujrlu0qZp7GbIiGnPp0iIvKZcUVknG+E/mRmpubzqx0KnCJjiVo6RUTGGLV0ish4o5ZOERERERkTFDpFREREJOQUOkVEREQk5BQ6RURERCTkFDpFREREJOQUOkVEREQk5BQ6RURERCTkRiF0duNprKFsWQYp10URFhZm/FyTRMpdeZRtceHpHolydNL2cgV5dyUR4ytD1HUpZCyrCPL8dAAPNXf5ylzkGsbyhGq/A2gs8X0GGdQcOvftzndrKHzYQdBLIiIiIjKAkQ2dB+sotEQTZc6isNKB891+UWa/C+cLFRRmJhEVnULhi21Bd+XZkuELSyW4znnNf4A67ZiLEkssMWl5VLzgovdInnedOCrzSIlKoqRxRJLvmNZSmULsdVmUHdK1EBERkQszcqHzmIuSRemU7TaCZvRtuazcZGeXcxe7nLuordnAyqVpRAN4nJRZk8h6IRTta53UrbBi2+0BUxrFzlZOnOyhp6eHE3/bRfECE+DCdkcxzs941urscKqFU0RERIbFiIVOd2UutkYAMyt3HKW1bgPFi61Y5lqwzLWQtiiX4idqaW2zk5sI4KEmf8PwB7/9dioqPYCJgmftrJwbTcQE462IGRZWPlGGFcBTgqvJ3w5MZD5vhNSeVeZhLtwoSFxpnEuPncwZo10YERERuViNUOhsY99Ot7G4vBhb6pTAq15tZf3alZgAPCU4dnb6Xc20yO4LSysxn/Na4ADV2eKmDoAs0m6OOHeFy6YQBUACEX7eFhEREZGhG6HQ6cGz01iKnTaVgbJcxNx0cgDTbAtHOw6f+eYAA18MLkp8g4NKGs98p/uYb3/xUUz1U5DO3Q4qAOKzsMT7P5cBB/x0tuAoWtI3UCoqjvTTA5R6yzZAv9OzHXNRYvYdNyqLmoN+1vnEg3NzIUsscUT5zj/GnMKSohpcge6T+7mevX1jk1b71nkhy7e/QIONHJQtyyDpmrDT55tyVx4VL7fh/1+GvmtofD6dtLxY0q/cUcRZllDyYkuA7UVERGS8GaHQGUvCUmOpxeHE/clA65sp7unh8Du7qF4cG5oiXRPla9Hsp9tFxZoqwETumhwSzmO33Y0lpMTGkbG6qm+glKeFOt8ApbxtbZwY6k6PuSi53Wp0TzBlUu2qJvPqs477XhVLYqNIyS6janfL6b6YbY1OqlZnkeQ79vDqxLk6hdjrMiisdODa73vZ04LzhQry0mKIvb0M97Eguzjqpuz2WOKstn7l9tCyuwqbNY7Ye2oY7lKLiIjIyBuh0DkFyx0Fxi3zxkLS5i2h4uUWOsfYQB13ZQG2JuC2YgoWBOkCEMjBGnLusOH0gGnuSuwtR43b/SdP0OosJs3kouL2LEqGss9jLVQt6x345D9wcrCGnLlLqNoPprkFVLuPcqLHNzjqyD6qf2DBhO/YgxiV39tNoWGN74U7qzl8TreFblxFaaQUOfEQjXXdLlo/6ul3vuuxzgLPtkLSlgUOjhuy0yjcFk3upgYOn/Bt/1ErtassmADPc1nkbVbsFBERGe9GbCBRRGoxzk05RAOe3VXkpcUxdWIYMeYM8lZX4WhswROsRSzUup3Y1xm3ywt+kGWMoh+STurWFVDjARKLcfyuGOu1vuA6IYLouSupdVWTaRrKPtuoWWZhyXNBAuc5x11PZvyU010YIiITyHysFscaM+DCtrQC95DPzY+mCgpWuwATmTW7sC+3EH2Z770JEUTPLcC+0zhfz3NZlLwY4Ea7Bwp2ONmw2Iypt9CXRZO2ZiPFtxm/1u12axS9iIjIODeC83RGELt4I/vesVO8KJbe7NXW6KCiaAkZ5jiiLg8j6rosCjc7R2iC+H7edVHlSzYRE89jBFGHE0elsYPc1QWYL/OzztWZFD482Jv2bdTck0RW0MDJGaPxV64NcFwiMC/OM0blN62nrtHfOkPRjfP59cb8qLcVU7woQES/OpO8ZcYnXbWlzn9wjC8kK9Xf9Y7GcofFWNzZwmE/a4iIiMj4MeJPJJoy28rKmmYOnzhKs8vOxlW5WBP7Qovn3RrKslOIik7BFmDkekjMNpPjS8Ily/Nw+BuoE0S3u4EqAHJJMwcOrQmpWQP3FT3ZRl1+lhE4MbNhZ4DASf/R+BkkJQQJyzPMpKUCeLC7LrStswX3y0aETEidE7RVOCExy1h4oYF9/j7O1AQC9dqdeJmvpdgDY6wnhoiIiAzR6D17PWIKsYlWctZswO5qpefEUVrddjb0myC+ZF7ayD0ZKMKC7cViY/qlxgoyomPIKHUNevR0Z0dvv8MopgbrDhoZNfCt+6Is0n/ROzLeRfGzzoChq21/g2+pgvSpYX2PFT3nJ4YlvhkE3Mcu8Jp2HqbNN4ep++E5QY4ZxsR5Zb6NDtPpr/vE5RMHnM1ARERExr/RC51ni5hCdLyV3CdqaW3r7fvowramesRGL0ckrsTZUu2bnL4Nx4okYi02nB0Db9u23zG8hTFlUrw20xhMU1pI8ev+g2L3sWHpoTk0xzp1u1tERESGZERCp/sXKaSYYwizDnL6m6szqXgix1h+uQ7XUOaz9BnytEQ+EddmsuG1w+xam2YEvt0lpCwowT1A42D0LOt5HtEPXx/OlT8qpuxOADcl3yvG5aelMGKCr0+AqZh9vhHrA/5c6JOUJkScbp3MfP7w4I6pJx6JiIh8po1MS+cnR3E2tsGLTtyDaDUEmBI19PHjpx1qo+X8t4YJJiw/qqWlrsDof9loo2qA/qVTInvL28zhYEOtOw4PHLyX5fn6cEaTuXYjaQBNJRT8zHXObfaoWb7BNp7DHB6pLrCmaOJ8WbflkNo8RUREZGAjEjoT5vYOnqlifeW5wckf92t231I0psghHvBQGw0DrzWgKbdlkOFbPjxAP8iI2DnG6HBqaHgn8Lptb9UNbcqiWTkUP2a0TLpWF1D2xzP3bUqwYMTOChy7Ryp1xmK+21hyP+scnimYRERE5KI2Mi2d8VkU3mksulZbyfiJE0+QpxK1vZhH7gojyiSsySCp/0gTU7Qv3DlwvuUvZLVR88SGIczr2Enby2VkpZWce/u6X6tk1GUDDHeZkUbOUqP5r2x1md9b4RyswbbaOeiS9UpYWkFxIoAL2/fKzrzVP8tCpm8+y6o163EGyp0Ha8gIiyLOkkLeCxc662UESbetNKa9aiqkOODk7d24Vs8h7JokUm4vwzXgk6hERETkYjVCA4lMZK6zkzMLwEPdIylE/Usc6ctsVL3oxLnbiXO3g6rSQrKuiyLGWmHMAZlYTMUPzGeObr7aTFpvyFqWRcluz+mW0+6DTsruSiHrOTANdhL2jgbKsgupedmG9XYbdYd8e+twU/VwrjENkimXNPNATyiaQtqKMmMAVKMNa2YJde/1JsBuPI0VLEnNMiZxH6qIBApKV56+1Z9b2b9tMZqc8r5b8ClfzaBsdxvdvQGvu5OWl0tIN2fhwEPLUTNZtw3u4kRc5pvc6c/NNJ8VZiPm2qhebuzHkZ1EysM1uDv60nD3QRdV+RaSityw38WUO62YJ5zHuYuIiMhFYeRGr19tZaOrgfV3+vo+elqoqyxhiTWFFEsKKZYMlqwoo8b3vPLoOzew7+WVfiY7jyZr7QbSTICnDpsliom90/NEp1D4AuQ876Ds5kGWKzKN9S+vJ81kDBpK/5eJxnQ/0+YYTwLCTPGL60kbzC3+qzOperEYiwk822ykx071TR00kShzHlXHLBSvyR1kwc4UcZON9b6Q53o4l7Kmfm/OysHuNs6B/Q4KLTFMvNQ3bdHEqcSl2ajzAIm51L5YHGAC+XPFxqf5WjNLSJkaRlhYFCV/PF0iLOsaqP2eGfDg/FkWc6ZN7JsqKTqJJb8wnliU9tg+qu++gD66IiIiMu6N7JRJkWYKnm/laEutMSl8qvmMOSujEy3kLN9IbctRWp/PJSFA42JEfC61Lc3Y1+Rgme1rtZtlxrp0A7sOt7LxzqEFnIj4giD7a2Bl4uBnkoxIXMkudwPV/vbl3sXK1Kghla3fnrGsqCLXN5VU4SNVZwxIiogvoLbtMLs2FZAzt++JT5hisdyZy3rHPo6+toG0AJPM+z3i3GIaHAWk9Z4HHprb+jfVRpNW3sBRt531S62YZ/V7x/dZGxA+gwAAEnpJREFU7vpbG7U/SNBcnCIiIp9xYT09PT2jXYjPlMYSwsw2oIBdJ9ZjURoTkbN4Pz452kUQERmS8M9fOuA6Y2dy+PHO42DJdSmkZBdStz/wam3v+AYSxUcxVYFTREREPiMUOoeLKZrYCU6cm8so2xlgltBjLqqeMEJnQqZl4Gewi4iIiFwkFDqHTQKWe4z5NJ3Lcsjb4qbz9GDubjrfq6Mk00pJE2DKxLZIkVNEREQ+O9Snc1i14chOISPgvJXALCsbXqgmN1731kXEP/XpFJHxZjB9OhU6Q8DTWEPV01XUvubEtR8gGnOqhaRFmRQusmBS3hSRIBQ6RWS8UegUERmHFDpFZLzR6HURERERGRMUOkVEREQk5BQ6RURERCTkFDpFREREJOQUOkVEREQk5BQ6RURERCTkFDpFREREJOQUOkVEREQk5BQ6RURERCTkFDpFREREJOQUOkVEREQk5BQ6RURERCTkFDpFREREJOQUOkVEREQk5BQ6RURERCTkFDpFREREJOQUOkVEREQk5BQ6RURERCTkFDpFREREJOQUOkVEREQk5BQ6RURERCTkFDpFREREJOQUOkVEREQk5BQ6RURERCTkFDpFREREJOQUOkVEREQk5BQ6RURERCTkFDpFREREJOQUOkVEREQk5BQ6RURERCTkFDpFREREJOQUOkVEREQk5BQ6RURERCTkFDpFREREJOQUOkVEREQk5BQ6RURERCTkFDpFREREJOQUOkVEREQk5BQ6RURERCTkFDpFREREJOQUOkVEREQk5BQ6RURERCTkFDpFREREJOQUOkVEREQk5BQ6RURERCTkFDpFREREJOQUOkVEREQk5BQ6RURERCTkFDpFREREJOQUOkVEREQk5BQ6RURERCTkFDpFREREJOQUOkVEREQk5BQ6RURERCTkFDpFREREJOQUOkVEREQk5BQ6RURERCTkFDpFREREJOQUOkVEREQk5BQ6RURERCTkFDpFREREJOQUOkVEREQk5BQ6RURERCTkFDpFREREJOQUOkVEREQk5BQ6RURERCTkFDpFREREJOQUOkVEREQk5BQ6RURERCTkFDpFREREJOQUOkVEREQk5BQ6RURERCTkFDpFREREJOQUOkVEREQk5BQ6RURERCTkFDpFREREJOQUOkX+//buPybu+77j+Atsb8dfgUn+HuBJLXYmtT58oWBHa9KuowESW1Fk104yB+LQTJEyRZEYQ0ZFlapJExOIoJOi7oc6tYxCnCZ2bLWRsblz2KJ4kWZD8fkOR5oNq9Rg7mupdv46tqllf3zv9y/ugO/d4T4ff92P7/fuc1+Ou9e9Pz++AADAdoROAAAA2I7QCQAAANsROgEAAGA7QicAAABsR+gEAACA7QidAAAAsB2hEwAAALYjdAIAAMB2hE4AAADYjtAJAAAA2xE6AQAAYDtCJwAAAGy3s9hPGA6v6rLvigKBBUnSoYPNerr9qWI3AwAAAEVU9NB52evTx5/8R8L1KwqHwzr63LPFbgoAAACKpOih8z+vz6XdFgjeInQCwCYtLi3p/XPn9eDBF3nv8/d/97c2tggA4oo+pnN1dTXttt/cv1/sZmypMz87q9t3FkvdDAC/5346+W5BgXM7e//ceS0uLZW6GQAKUPRK58Pi2vU5HTrYbF2endO12Tk9um+v/uKF4/qjmpoStw7A76Poj/qHtXo5Nzev5uYm6/Iv5zX3y3ntbWjQieNHVVNdXeLWAVgPs9c34Nr1OZ1572zs+tPtT8nhcOj2nUW95Xlbny/fLWHrAODhMzc3r/c/OB+73vbtVjkcDi0uLentH/6jlu+ulLB1APJBpbNAqYFTskLnn33jSZ1576wCwQX9wz//SH/T8yYVTwAlVcgYz+rqR/T88WPa29BQhJYVJjVwStJT3/5zPfH1P9XZD85r4dZn+pcf/0RvvvFXVDyBMkalswCZAmdUVZVDr77SpUMtzQqHV/Xue+eK3DoASFbIGM8HD77Q++fOr79hkWUKnFFVVQ693HlSzV9rUji8qrPnLhS5dQAKQaUzT7kC54//dUInXzihqiqHjj73rG4GF3T7zqJu31nUo/v2FrmlAGApZIzn977/g7KbhJQrcP508oxOfOeYqqocevbIYS3c+kyLS0taXFoqy2otgCKEzt7TA9q3t0FvvP6aJMnhcKTNYK+piXeH/PCffqQ7i0saHR60u2k59Z4eyHvbQHBB7753Vt99pUtVVQ5965tP6rL3iq5dnyN0AkCevvf9H+S97cKtz3Tug/Pq6jypqiqHvvHE1+X7aEazc/OETqBM2d69Xl9Xp+W78Yk13/rmk2nbPH6wJXb58+W7qq+rs7tZW+5mcCE2gWjfXusD784iy3kAgF2Ctz6LTSBqaPiSJGlp6b9L2SQAOdgeOh8/aI1xvBZZFN6adPOEamqqVVNTrafbn4qdBvPa9Tmtrq7q8chSRNvNnchanXvq6yVt//VHAaDcLUXW6qyrtYoV9x88KGVzAORge/f6oYMt+vdPrurCLz5UfX2d9tTX6ehzz6adgejz5bu68IsPVVNTrUMJlU8AAABsf7ZXOq1Z3S9rbU16y/O2LnuvJFUAf3P/vi57r+gtz9taW5NefeVlVVU57G6WLfZFxm9+vrwsKXmsKgBg6zVExm/eXbGGN1VXP1LK5gDIoSiz1/fU1+mN11/TmZ+d1WXvFV32Xknbpr6uTidfPKE99dtvPKckNbr2x9oeHcv56F4mEQGAXfZ/9Suqr6uVJC0t/UqSmEQElLGiLZm0p75OfX/9pm4GFxQILOjarDXG81BLsxob9+uAa3+xmpKX1NnzuZZManTt18kXTkiSwuFVffzJVUmKnSYTALC+1KWdci2ZtP+rX9GJ7xyTZH3uXv30U0lSS+Q0mQDKT9HX6TzgsgJmNHSefPFEsZuwIdEAmSl4vvpKV+zyhZ9/qHB4Vfv2NrBcEgBsQvQ865mC58udJ2OXP7w4pXB4VQ0NX6bSCZQxFocvQK7gGQ6v6ifjE7p9Z1EOh2PbhGkAKGe5gmc4vKqJd97V4tKSHA6Hnj9+rNjNA1AAQmeBMgXPy94r+viTqwqHV+VwOPTG669x3nUARZfPmYe2o0zB88pH/6arn34a+9x97S+/y3nXgTJXstBZ6jMObUbqWM3oxKh9ext08sUTBE4A2GLNKWM1fR/NSJIaGr6s548fI3AC2wCVzg1KDJ6HWpp16GAzYzgBlJXq6kf04MEXeZ9estyDW2LwbP5ak1qamxjDCWwjFWtra2ulbgQAIO5//vf/tuRxFpeWdPbchbzO0lNTXa0Tx48S4gBsyB/+wa51tyF0AkCZ2arQCQDFkk/otP2MRAAAAAChEwAAALYjdAIAAMB2hE4AAADYjtAJAAAA2xE6AaDMVFRUlLoJAJC3fD+zCJ0AUGYInQC2E0InAGxTO3bw0Qxg+8j3M4tPNgAoM5UVFaqs5OMZQPmrrKxUJZVOANi+du3cocpKutkBlK/Kygrt2rkj/+1tbAsAYBN27dxJxRNAWaqsrNSunTsL2odzrwNAmfvd2pp++9vfaW1tTXxkAyiViooKVVRUaMeO/LvUk/YndAIAAMBu9NsAAADAdoROAAAA2I7QCQAAANsROgEAAGA7QicAAABsR+gEAACA7QidAAAAsB2hEwAAALYjdAIAAMB2hE4AAADYjtAJAAAA2xE6AQAAYDtCJwAAAGxH6AQAAIDtCJ0AAACwHaETAAAAtttZ6gYAAIBCBDU2YupwX6uckVv8Ex6ZHT1qM5IvxwQm1TsejF11nxpUd2P6voo93oDG/JJk6EifdV/I59FUbY8Or3g0ppfUn/QEkswZDU0b6u9yJd2csT3JO8o34tFFM3LVaFd/9LWlPWbKtqmvJzCpoZX29LaVQMiXfpyixzB67OMyvy5nR0/Kawlq7PSk/Km7R46Zsj5+4lPNaGjEq1DkauJ7Ia19Ke8ba4dOjUb+Huv/bZMROgEAiEr5Qk4MXXbwTwxoqjY1WGwxc0ZDl+rVP9wZCammfCMD6h2PbmDoSEfC9oFJjalTo8OuSOiY0YG+Vtua55/waLapR6PRYxCYVO/pgfgG7s6ErQ219Q2qLeGWkG9SN0ufMTfFP+HRr58Z1Ghj6u0DGgsMJoRIl7qHByVlCbXrPlNQYyM31NI3GHlPW++FMQ1mDqqNnRodTrgemNTQyu4CXlkyQicAAFKsquM+Naj+xErPyKSM4U65S9q4FKZXQ6e9CTekBMcEIf8NqemlWFVUMnSgydBsJLD4JzxKLLD55+/pSEekstjYriOX3tFNs1UHtvxFSJIpc8Wlw10JqbGxSW5JzcOdcpszGprOvf/Necloy7UNYgLzCnW8pO7Y4TbU9oxLvfNBqdGVa09J1nujpeOexk57ItXW7O+7TAidAADIlO9SUM6OlK7JxnYdMTyaC0juWHd0tOs5pfszqUrqUndCUA35PBqaNiUZcrslv9pjXZTxJmTfP01iF3S0TSMDumjdmRQEnO7HpPGgQm1GrNJ5c95UyPSodzp1e1Pmym4ZCaHEqDVjj+0+lf0Ihvw3FPLvll8uuZO6ZXMFE0NGbVBTPlPuyHEM+bzyy5Q/Wu1MqnSmCHg129Su/uxblExoxVRI9yStX4Z1d/XITKo+W5wdPfEfQJt4/C0RmNSY2jVquKRItTX1B8t6CJ0AAJhBzZqGWtypX+BWd25UyOfRmD8SCM0ZDY14NFY7qO7GoMZGvFKH1U1shcAZKxiaMxqblo70DarNsMbkpadJa39npMqatH9eLyA+DCAtCBit6n8mucvafSrelbt+cLAe+4Dfo6ms2wQ1NS253fciAT3eLbve41uBKxqAZQXq4cQxndn2NOW7JB3u27rQFftxkBLqC2bOaEqd6pZXPtOVPF52fEC9Sh5LaYVvyf1M4ljbAc3VZnttQc35JWneCvkJ92R+/IjGJjnH35HPHR0yEtTYeFDuUzmCfeT1DF2qV3+fS8njSql0AgCwAYkVvuQJG9GKZmjFlLPjJetL3mjVYbdXY/NByTAVkkuHI+nC3dEu58gN3TRbJf8NhdztkS95lw53GPKvpDx1wAoP0ZBg7b+skJQ5+BTQvS4pfWxeVoaM2nsyraKs0iufmYV8Xvnd7RrtknXcChqOkD5OM35Xq/q7Mt1hTbz59TNZ9tsQqwJsXbT+ds4N5ln/9A21dPTILVNDkTGx0b9j6sQdqwIe3dEKjOnXk8cWW8e7U/21Xg1NBJOq5hnDZoxL3cPS2On48+TePtrG3eqOjQmOjyvd8krnf935VQEPBwBA6fzJvi9tYu/EsJX4xToQqfCZMlck1cb3cNYa0ookczl5EodhxEJGaCXfr+WgxhIn0MhIaE+ieNu2grurJ/l60271TgfV1uWSAl5drG3SqLJPUgn5PBqafyxSBZO6T82rt6AqrTLPko41qDNlKEKkWrxOWCqcNdb14rQpGY/pwEYDZ3RymCFJrepu8mhowkgfTiHJ2daj0UJTc2Aydryd2q0jIx4N+QqZjJbv+8cK9rNNPRod3ppq8rqhc3P/wAAAbAOGSy2GV7N+U21Zv7ytLtBEsUBp1Mup5fgdpqmQpD9WQjBdtw2FdekWtFxN2qz8pCdOnqHf2Knu+QH1npasgJJjgok5o7Hp3eoeTmh3Y6f6V7IHrYyyVWJTu9fNGQ0lzb7eWhsKgYmiM/8TGuds61F3ZBb64aw75rlkUmBSveNKON6G2vp6pBGry3xrJ3tFK9BW23Rq86s40L0OAEBkFu/F8egYzcjNgUmN+SVnJGw6aw2Fpr3yt1ljOqf8kvuUSzIkp7yxCTH+aa9CRrsOGNZEHud0dGxfUFPTZvqYzsYmuccnNRVoVXdjcpdmobPmUyuX1strVf9w5mWPMnWRursGNZrPkxmt6s8QFp1tPfntH7VOpTP5+exbvmnTGjvTlj2SrOPplhTK8uMj7yWTMobzSPDUOksm5fzhIcndqf7abHdm2SXTey0HQicAAFLkCz2YNN7NqgLGq2rOth51rwzEusHjs91d6u5r11BsQowrXo0yWtXdcUNDIwO6KJeOZBrTGds/cQxfmS3TZLe0bnRsqTwCe8jnzXn/ZhE6AQCIWX+8W9YqYI4v9Xi3rdVV6WzaHXssdx77Z2bqYmyZpNRGbsMA55+MdOmnWmf5qIfARpZMKq7s77X0syZlV7G2tra2tQ0DAAAxqV3H2zEQAluA0AkAAADbVZa6AQAAAHj4EToBAABgO0InAAAAbEfoBAAAgO0InQAAALAdoRMAAAC2I3QCAADAdoROAAAA2O7/AVIT1JUROTEFAAAAAElFTkSuQmCC)\n",
        "\n",
        "### (2) \"She wears a green skirt.\"\n",
        "![image.png](data:image/png;base64,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)\n",
        "\n",
        "![image.png](data:image/png;base64,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)\n",
        "\n",
        "### (3) \"He buys many drinks for the party.\"\n",
        "\n",
        "![image.png](data:image/png;base64,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)\n",
        "\n",
        "![image.png](data:image/png;base64,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)\n",
        "\n",
        "## 4. 번역이 매우 좋지 않은 문장을 최소 2개 이상 (구글번역과 결과 비교)\n",
        "\n",
        "### (1) \"I have much assignment.\"\n",
        "\n",
        "![image.png](data:image/png;base64,iVBORw0KGgoAAAANSUhEUgAAAZwAAAA7CAYAAABPLzzbAAAFjElEQVR4nO3cPZbTMBDAcS+PJsdIKjpqrrMVp6DgFFR7Herttso1UoaCZ57Qk0ajjxlLyf/X8BLb0njsaGzLy8vtdrtvAAAY+3R0AACA50DBAQC4WLrgnE6no0OYEnkB0EIaO0aMKy4F58f3b8PbPJ1O2+12G97uaN6D/yp52ba/sT5icXz7+uW/f3PLa9t7VDPu34wxjSKdn7fbLfublJZpTXuH01qkHmEAs9iH2fKyF8ZViiMwmxWLokvB+fnr99D2VrqK90RegDFe3z+ODuEwlnc5L5rXon98/7b9/PX7311HXEC0y+PvQuFyadm25QfWOBHxOvt2+3rh8nDb3Pe5NjV9SrGO6m+VvGi31cYZfk7lQJOzXJ8W3r5+qRrQUley4fbh8vj70udcm6VYXt8/iu2X+ty/L+2fJp7UNtL+lfZdOkapHGj6SuVMiqUn/l7SxWvPhe1n7Yph0cgVkNo7mbjI7J/34lXbXm7ACeUGJGngzi3TtKWJIfws7UNrf7PlRbuPNfsbtlnbxgp3hrkBUTPop2iKgxRLrv+aPsPPLbFI7Un717PvcR8h6TjkclaKRcpX7YXLDNSP1MLBP7ybSS2fWW6wsmzfsr9RZshLqqCV7oa8YpvVKgNOanDsjb12e2n9liK9Su5nor7DeXQtzyV7HsW0Pgc94q23Wt6PqEpme2FitNbJ4xUnnWO5fQgfc6UKXW7ZER7hOGhRcLb0Ixat1DyCR38evPNiZYaiZ6U0RyI9RpphsO2hnZNKFRdpmbfVj0ONaV+LXs3+iu+jX03XIi842uv7R3Jiv7QstW643jPdmYyiLjjhnE3LhP5IlgNYTbsjYuhtI36LbOW8xPFbTeZ7H2MvuQG1ZkLcKp7UoD6yv5q2e/rd98Nywn5UXlrbsXpDbdsqHqlJrz1baO2vZf4g3mb/C3jt21/xd7395fahZxJ9hby0xmkVywri+QjtYFh6lbc3Fu3nUf3F+y7tX+u+h22P0nMcZpuL0qj6O5zZrPA66xHIyxjkETHrv385muXdzbYpCw4AAL14aQAA4IKCAwBwQcEBALig4AAAXFBwAAAuKDgAABcUHACACwoOAMAFBQcA4IKCAwBwQcEBALig4AAAXFBwAAAuXu73O/9bNADAHHc4AAAXFBwAgAsKDgDABQUHAOCCggMAcEHBAQC4oOAAAFxQcAAALig4AAAXQwrO5XIxXR9+OXukY7NKzlLbx9890nHResZ9fnRPc4fDyYtVXC6X7Xq9Hh0GMNzTFBwAfi6Xi+lFnnX7sPHZuoPwpAiv2uKTpeaKbt/2er3+uxpMXRWGy+LtRsSf6y/eLrWt1zJNnnN5aT1G5EzeVlJ7d5PLdSmW1mXamLTHvbavfbvwWHE3uJD7AOfzWfX9/jm1fq4Nab3z+axuU9u+FFOpPU0sRy8r7VPvMSJn6TYl0vZSO965LglzUdpek+vScSj1i/mYPVJLXXn0XonEbVpf2YxsX2rrqCs0i3ySs/72tWr7tsxnfOcxmnQns/fLI7b5mT9SW13LSRye/KmiKz3aa/3RWPzYPGMhZ+lHTK39eeez1GaP0mMzq34xHgVHkHoWrRXPB6SuiqVltSx+bC1tkrO+WHLzkSmlXB+Vz5HzKqXzhzmctSz1llp8BbjCLbR0u8+jgDRyNpZ3Pvf2RrSZi29vn2KzFrOCkztJRrWrvc0eRXOlpVnX649kNdvVFvDRsZMzXR8aNb81j3xK8zkjcmI5XwQ7po/UUidJD2liMtVX7rM2jnibsNCV2s893mhdpo2zZjsp7hGxkDPbeYWaXIexWORTG2euj5p2KDTrernf7/ejg6jh+YMGAIyzXMEBAKxpqZcGAADrouAAAFxQcAAALig4AAAXFBwAgAsKDgDAxR8duDEbPxKubgAAAABJRU5ErkJggg==)\n",
        "\n",
        "![image.png](data:image/png;base64,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)\n",
        "\n",
        "### (2) \"just two of us in here.\"\n",
        "\n",
        "![image.png](data:image/png;base64,iVBORw0KGgoAAAANSUhEUgAAAZMAAAA/CAYAAAAltSVAAAAFjElEQVR4nO3cO5LUPBDAcS9FMteYiIyY6xBxCgJOQcR1iMmI5hoOh4AyCKFnd+u5/1/VV9SOV4+WPWpb8n4v53k+DwAAFN6M7gAAYH0kEwCAGskEAKBGMgEAqJFMAABqyyWT2+02ugtTYlwASKTmjpp5pVky+fzpg3mdt9vtOM/TvF5rvSf2VcblOH73dcfE9+39u3/+jR3H/769fzfF+Fj2YYZ4XKnr8zzP6Hcydcw31ZOJNAHtMDm1iGG2cbmS3iqJb2bSyWrGSe7jj5/Hxx8/R3cFSs2SyZev303rW+nuuyfGZQ1MlvN7zefI4unkJfYX8J8/fTi+fP3+52nBTw6lx/3PXO7x1LHjiE+afpD+71zlrt9zj7tlY5/H6ixpM9VXq/ZWGZfSsqX9dH8OjUHJmMXabOG6A6/5zH+KyH1e0odYuatd/99Q+dpJN1ZOEod0zEr7adHHUDm/bOm5qCmnlboxLblpfZs66CaEWHKofQLxE8j185WYauuLTSau2GSTmpRjx0rqKumD+3MqBml7s41LaYw18bp11tYx+xNdatKMTfY50nJ+f2rqSJXT9CfXVuqzWqGJvracW7akn5Kbj9GSy1zuxO4+hYSOzyw2EbWsv2V7VmYYl1Cyyj3F9OrbbEZNGrEk0KqcpVkm2lor9jv5ZLI7yQa1ZnlEuiE+4u2wWr2XjXJme/mgVmyZA3ErjdkuL1C4Xm0yCS17lAqt2/dor4fe49LKDAlNy98HmH2CnMEqYybt16zxHMdkrwav5nrNdfW7YGuMiy13n6RlG6k1/dX0GDP8K5lM3D0Syea4pZaTU029Fn3Q1uG/bbXyuPj9b7Ux3vscS7gT30yToD8plyYbabkas45ZLatlL2k92je5jiOzzJV69bcFaXuS9Xq/zPWX2aVvSfmfaduLxaDZkF5hXKT9bNWXnvzJ1l/zT70GKt0fWKVcSX2h+lu+OmtF2s/Z48v+nclsZn+lcxTGxYb1OM6+dg9YPJUcRyKZAABQig14AIAayQQAoEYyAQCokUwAAGokEwCAGskEAKBGMgEAqJFMAABqJBMAgBrJBACgRjIBAKiRTAAAaiQTAIDay/P55P8aDABQ4ckEAKBGMgEAqJFMAABqJBMAgBrJBACgRjIBAKiRTAAAaiQTAIAayQQAoFadTO73e/A/C7X1+L9v1Y+etH1eJWbtuZ3dyvHN1JcWdo9vFm9rCzwej/8+m/Vk3e/34/F4/PkXANCGepnLcqKW1HMlslBCu+rbOZGsEtsq/ZQaFZ/lysCI+ke3Pzq+nVQ/maT4TwJ+ovFPmv8FtH6CcNsr7UdJH1Nlr7hDZUv6GhuT3PHSPobac+uIlS2pMyV1biXnKddOyTUoGbdcu7FjoTqtxzR2LbjXT2lbVzn3/PdOmLvHtxtVMqk5AakLoYXchSg5VhKDJKbaNkqk+hRLHrm2tXGGpPpmfb3kxqHF9dkiPsnNiv/7ueTnH5PeJEnsHt+uln+bK7YnMuqCkLTrJzLtHWtKKnH21vu8aSYniRbx+XfU1lKT8NVu62WnnePbmfjJRHoH3pt1m7tfaK81vlXuTFv2M/ed7jE+u8e3M9M9k5yRa65Wk+TuF9rO8ZXu4c0+qbRY5899P3ruKewe365EySQ28KmNz5ZC7XBxhPnnZrcnEYtrcJVNWcu7+FjMIxPr7vHtZuieyQ4TmUUMuU1wa9eXtKStlucotD7d65ro0W6P+FL7C5K2/D5r9y+08c4eH/6qfjK5TkTtJnHrjeVcexZPS61i6P2mTOwL1PschdrsuR7vJtQe59aqzpq2NBPubJPs7vGt7uX5fD5HdwJ99U4YAPZHMgEAqC3/dyYAgPFIJgAANZIJAECNZAIAUCOZAADUSCYAADWSCQBA7Rd9bqfqKAETiAAAAABJRU5ErkJggg==)\n",
        "\n",
        "![image.png](data:image/png;base64,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)"
      ],
      "metadata": {
        "id": "Drq8_x5wOy6v"
      }
    }
  ],
  "metadata": {
    "kernelspec": {
      "display_name": "Python 3",
      "language": "python",
      "name": "python3"
    },
    "language_info": {
      "codemirror_mode": {
        "name": "ipython",
        "version": 3
      },
      "file_extension": ".py",
      "mimetype": "text/x-python",
      "name": "python",
      "nbconvert_exporter": "python",
      "pygments_lexer": "ipython3",
      "version": "3.8.8"
    },
    "colab": {
      "name": "HW6 제발 성공",
      "provenance": [],
      "collapsed_sections": []
    },
    "accelerator": "GPU"
  },
  "nbformat": 4,
  "nbformat_minor": 0
}